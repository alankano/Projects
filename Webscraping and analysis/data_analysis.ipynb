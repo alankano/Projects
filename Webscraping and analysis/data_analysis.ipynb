{
 "cells": [
  {
   "cell_type": "code",
   "execution_count": 1,
   "metadata": {},
   "outputs": [],
   "source": [
    "import pandas as pd\n",
    "import numpy as np\n",
    "import seaborn as sns\n",
    "import matplotlib.pyplot as plt\n",
    "import datetime"
   ]
  },
  {
   "cell_type": "code",
   "execution_count": 2,
   "metadata": {},
   "outputs": [
    {
     "data": {
      "text/html": [
       "<div>\n",
       "<style scoped>\n",
       "    .dataframe tbody tr th:only-of-type {\n",
       "        vertical-align: middle;\n",
       "    }\n",
       "\n",
       "    .dataframe tbody tr th {\n",
       "        vertical-align: top;\n",
       "    }\n",
       "\n",
       "    .dataframe thead th {\n",
       "        text-align: right;\n",
       "    }\n",
       "</style>\n",
       "<table border=\"1\" class=\"dataframe\">\n",
       "  <thead>\n",
       "    <tr style=\"text-align: right;\">\n",
       "      <th></th>\n",
       "    </tr>\n",
       "  </thead>\n",
       "  <tbody>\n",
       "  </tbody>\n",
       "</table>\n",
       "</div>"
      ],
      "text/plain": [
       "Empty DataFrame\n",
       "Columns: []\n",
       "Index: []"
      ]
     },
     "execution_count": 2,
     "metadata": {},
     "output_type": "execute_result"
    }
   ],
   "source": [
    "df = pd.DataFrame()\n",
    "df"
   ]
  },
  {
   "cell_type": "code",
   "execution_count": 33,
   "metadata": {},
   "outputs": [],
   "source": [
    "passageiros_2014 = pd.read_csv('passageiros_2014.csv')\n",
    "passageiros_2015 = pd.read_csv('passageiros_2015.csv')\n",
    "passageiros_2016 = pd.read_csv('passageiros_2016.csv')"
   ]
  },
  {
   "cell_type": "code",
   "execution_count": 198,
   "metadata": {},
   "outputs": [
    {
     "data": {
      "text/plain": [
       "Index(['Unnamed: 0', 'AREA', 'DATA', 'EMPRESA', 'LINHA',\n",
       "       'PASSAGEIROS COM GRATUIDADE\\n\\n(L)',\n",
       "       'PASSAGEIROS COM GRATUIDADE ESTUDANTE\\n\\n(M)',\n",
       "       'PASSAGEIROS INTEGRAÇÕES ÔNIBUS -> ÔNIBUS\\n\\n(K)',\n",
       "       'PASSAGEIROS PAGANTES\\n\\n(J) = (A+B+C+D+E+F+G+H+I)',\n",
       "       'PASSAGEIROS PAGANTES BILHETE ÚNICO COMUM\\n\\n(B)',\n",
       "       'PASSAGEIROS PAGANTES BILHETE ÚNICO COMUM MENSAL\\n\\n(C)',\n",
       "       'PASSAGEIROS PAGANTES BILHETE ÚNICO ESTUDANTE\\n\\n(D) ',\n",
       "       'PASSAGEIROS PAGANTES BILHETE ÚNICO ESTUDANTE MENSAL\\n\\n(E) ',\n",
       "       'PASSAGEIROS PAGANTES BILHETE ÚNICO VALE TRANSPORTE\\n\\n(F)',\n",
       "       'PASSAGEIROS PAGANTES BILHETE ÚNICO VALE TRANSPORTE MENSAL\\n\\n(G)',\n",
       "       'PASSAGEIROS PAGANTES EM DINHEIRO\\n\\n(A)',\n",
       "       'PASSAGEIROS PAGANTES INTEGRAÇÕES METRÔ E CPTM\\n\\n(H)',\n",
       "       'PASSAGEIROS PAGANTES INTEGRAÇÕES METRÔ E CPTM MENSAL\\n\\n(I)', 'TIPO',\n",
       "       'TOTAL PASSAGEIROS TRANSPORTADOS\\n\\n(M) = (J + K + L)',\n",
       "       'TOTAL PASSAGEIROS TRANSPORTADOS\\n\\n(N) = (J + K + L + M)'],\n",
       "      dtype='object')"
      ]
     },
     "execution_count": 198,
     "metadata": {},
     "output_type": "execute_result"
    }
   ],
   "source": [
    "passageiros_2015.columns"
   ]
  },
  {
   "cell_type": "code",
   "execution_count": 34,
   "metadata": {},
   "outputs": [
    {
     "data": {
      "text/html": [
       "<div>\n",
       "<style scoped>\n",
       "    .dataframe tbody tr th:only-of-type {\n",
       "        vertical-align: middle;\n",
       "    }\n",
       "\n",
       "    .dataframe tbody tr th {\n",
       "        vertical-align: top;\n",
       "    }\n",
       "\n",
       "    .dataframe thead th {\n",
       "        text-align: right;\n",
       "    }\n",
       "</style>\n",
       "<table border=\"1\" class=\"dataframe\">\n",
       "  <thead>\n",
       "    <tr style=\"text-align: right;\">\n",
       "      <th></th>\n",
       "      <th>Unnamed: 0</th>\n",
       "      <th>PASSAGEIROS PAGANTES EM DINHEIRO\n",
       "\n",
       "(A)</th>\n",
       "      <th>PASSAGEIROS PAGANTES BILHETE ÚNICO COMUM\n",
       "\n",
       "(B)</th>\n",
       "      <th>PASSAGEIROS PAGANTES BILHETE ÚNICO COMUM MENSAL\n",
       "\n",
       "(C)</th>\n",
       "      <th>PASSAGEIROS PAGANTES BILHETE ÚNICO ESTUDANTE\n",
       "\n",
       "(D)</th>\n",
       "      <th>PASSAGEIROS PAGANTES BILHETE ÚNICO ESTUDANTE MENSAL\n",
       "\n",
       "(E)</th>\n",
       "      <th>PASSAGEIROS PAGANTES BILHETE ÚNICO VALE TRANSPORTE\n",
       "\n",
       "(F)</th>\n",
       "      <th>PASSAGEIROS PAGANTES BILHETE ÚNICO VALE TRANSPORTE MENSAL\n",
       "\n",
       "(G)</th>\n",
       "      <th>PASSAGEIROS PAGANTES INTEGRAÇÕES METRÔ E CPTM\n",
       "\n",
       "(H)</th>\n",
       "      <th>PASSAGEIROS PAGANTES INTEGRAÇÕES METRÔ E CPTM MENSAL\n",
       "\n",
       "(I)</th>\n",
       "      <th>PASSAGEIROS PAGANTES\n",
       "\n",
       "(J) = (A+B+C+D+E+F+G+H+I)</th>\n",
       "      <th>PASSAGEIROS INTEGRAÇÕES ÔNIBUS -&gt; ÔNIBUS\n",
       "\n",
       "(K)</th>\n",
       "      <th>PASSAGEIROS COM GRATUIDADE\n",
       "\n",
       "(L)</th>\n",
       "      <th>PASSAGEIROS COM GRATUIDADE ESTUDANTE\n",
       "\n",
       "(M)</th>\n",
       "      <th>TOTAL PASSAGEIROS TRANSPORTADOS\n",
       "\n",
       "(N) = (J + K + L + M)</th>\n",
       "    </tr>\n",
       "  </thead>\n",
       "  <tbody>\n",
       "    <tr>\n",
       "      <th>count</th>\n",
       "      <td>485264.000000</td>\n",
       "      <td>483672.000000</td>\n",
       "      <td>483672.000000</td>\n",
       "      <td>483672.000000</td>\n",
       "      <td>483672.000000</td>\n",
       "      <td>483672.000000</td>\n",
       "      <td>483672.00000</td>\n",
       "      <td>483672.000000</td>\n",
       "      <td>483672.000000</td>\n",
       "      <td>483672.000000</td>\n",
       "      <td>483672.000000</td>\n",
       "      <td>483672.000000</td>\n",
       "      <td>483672.000000</td>\n",
       "      <td>483672.000000</td>\n",
       "      <td>484683.000000</td>\n",
       "    </tr>\n",
       "    <tr>\n",
       "      <th>mean</th>\n",
       "      <td>666.867569</td>\n",
       "      <td>358.417217</td>\n",
       "      <td>1034.209913</td>\n",
       "      <td>203.128705</td>\n",
       "      <td>68.643936</td>\n",
       "      <td>14.113304</td>\n",
       "      <td>936.53699</td>\n",
       "      <td>65.316231</td>\n",
       "      <td>277.780676</td>\n",
       "      <td>51.393329</td>\n",
       "      <td>3010.888005</td>\n",
       "      <td>1560.047937</td>\n",
       "      <td>790.477718</td>\n",
       "      <td>641.996764</td>\n",
       "      <td>6005.356274</td>\n",
       "    </tr>\n",
       "    <tr>\n",
       "      <th>std</th>\n",
       "      <td>389.946483</td>\n",
       "      <td>373.796822</td>\n",
       "      <td>1016.417431</td>\n",
       "      <td>214.760303</td>\n",
       "      <td>96.511800</td>\n",
       "      <td>20.782508</td>\n",
       "      <td>927.78703</td>\n",
       "      <td>84.484925</td>\n",
       "      <td>422.843691</td>\n",
       "      <td>68.699409</td>\n",
       "      <td>2927.314412</td>\n",
       "      <td>1710.611254</td>\n",
       "      <td>785.488718</td>\n",
       "      <td>779.832904</td>\n",
       "      <td>5842.413016</td>\n",
       "    </tr>\n",
       "    <tr>\n",
       "      <th>min</th>\n",
       "      <td>0.000000</td>\n",
       "      <td>0.000000</td>\n",
       "      <td>0.000000</td>\n",
       "      <td>0.000000</td>\n",
       "      <td>0.000000</td>\n",
       "      <td>0.000000</td>\n",
       "      <td>0.00000</td>\n",
       "      <td>0.000000</td>\n",
       "      <td>0.000000</td>\n",
       "      <td>0.000000</td>\n",
       "      <td>0.000000</td>\n",
       "      <td>0.000000</td>\n",
       "      <td>0.000000</td>\n",
       "      <td>0.000000</td>\n",
       "      <td>1.000000</td>\n",
       "    </tr>\n",
       "    <tr>\n",
       "      <th>25%</th>\n",
       "      <td>331.000000</td>\n",
       "      <td>56.000000</td>\n",
       "      <td>210.000000</td>\n",
       "      <td>39.000000</td>\n",
       "      <td>8.000000</td>\n",
       "      <td>1.000000</td>\n",
       "      <td>194.00000</td>\n",
       "      <td>10.000000</td>\n",
       "      <td>5.000000</td>\n",
       "      <td>8.000000</td>\n",
       "      <td>620.000000</td>\n",
       "      <td>284.000000</td>\n",
       "      <td>138.000000</td>\n",
       "      <td>46.000000</td>\n",
       "      <td>1244.000000</td>\n",
       "    </tr>\n",
       "    <tr>\n",
       "      <th>50%</th>\n",
       "      <td>662.000000</td>\n",
       "      <td>259.000000</td>\n",
       "      <td>783.000000</td>\n",
       "      <td>146.000000</td>\n",
       "      <td>35.000000</td>\n",
       "      <td>6.000000</td>\n",
       "      <td>706.00000</td>\n",
       "      <td>37.000000</td>\n",
       "      <td>106.000000</td>\n",
       "      <td>28.000000</td>\n",
       "      <td>2303.000000</td>\n",
       "      <td>1104.000000</td>\n",
       "      <td>598.000000</td>\n",
       "      <td>365.000000</td>\n",
       "      <td>4633.000000</td>\n",
       "    </tr>\n",
       "    <tr>\n",
       "      <th>75%</th>\n",
       "      <td>994.000000</td>\n",
       "      <td>532.000000</td>\n",
       "      <td>1552.000000</td>\n",
       "      <td>293.000000</td>\n",
       "      <td>91.000000</td>\n",
       "      <td>19.000000</td>\n",
       "      <td>1395.00000</td>\n",
       "      <td>88.000000</td>\n",
       "      <td>373.000000</td>\n",
       "      <td>67.000000</td>\n",
       "      <td>4525.000000</td>\n",
       "      <td>2226.000000</td>\n",
       "      <td>1186.000000</td>\n",
       "      <td>961.000000</td>\n",
       "      <td>8958.000000</td>\n",
       "    </tr>\n",
       "    <tr>\n",
       "      <th>max</th>\n",
       "      <td>1429.000000</td>\n",
       "      <td>3874.000000</td>\n",
       "      <td>8458.000000</td>\n",
       "      <td>2461.000000</td>\n",
       "      <td>1274.000000</td>\n",
       "      <td>320.000000</td>\n",
       "      <td>7382.00000</td>\n",
       "      <td>1161.000000</td>\n",
       "      <td>4811.000000</td>\n",
       "      <td>934.000000</td>\n",
       "      <td>21149.000000</td>\n",
       "      <td>21888.000000</td>\n",
       "      <td>6208.000000</td>\n",
       "      <td>6945.000000</td>\n",
       "      <td>45115.000000</td>\n",
       "    </tr>\n",
       "  </tbody>\n",
       "</table>\n",
       "</div>"
      ],
      "text/plain": [
       "          Unnamed: 0  PASSAGEIROS PAGANTES EM DINHEIRO\\n\\n(A)  \\\n",
       "count  485264.000000                            483672.000000   \n",
       "mean      666.867569                               358.417217   \n",
       "std       389.946483                               373.796822   \n",
       "min         0.000000                                 0.000000   \n",
       "25%       331.000000                                56.000000   \n",
       "50%       662.000000                               259.000000   \n",
       "75%       994.000000                               532.000000   \n",
       "max      1429.000000                              3874.000000   \n",
       "\n",
       "       PASSAGEIROS PAGANTES BILHETE ÚNICO COMUM\\n\\n(B)  \\\n",
       "count                                    483672.000000   \n",
       "mean                                       1034.209913   \n",
       "std                                        1016.417431   \n",
       "min                                           0.000000   \n",
       "25%                                         210.000000   \n",
       "50%                                         783.000000   \n",
       "75%                                        1552.000000   \n",
       "max                                        8458.000000   \n",
       "\n",
       "       PASSAGEIROS PAGANTES BILHETE ÚNICO COMUM MENSAL\\n\\n(C)  \\\n",
       "count                                      483672.000000        \n",
       "mean                                          203.128705        \n",
       "std                                           214.760303        \n",
       "min                                             0.000000        \n",
       "25%                                            39.000000        \n",
       "50%                                           146.000000        \n",
       "75%                                           293.000000        \n",
       "max                                          2461.000000        \n",
       "\n",
       "       PASSAGEIROS PAGANTES BILHETE ÚNICO ESTUDANTE\\n\\n(D)   \\\n",
       "count                                      483672.000000      \n",
       "mean                                           68.643936      \n",
       "std                                            96.511800      \n",
       "min                                             0.000000      \n",
       "25%                                             8.000000      \n",
       "50%                                            35.000000      \n",
       "75%                                            91.000000      \n",
       "max                                          1274.000000      \n",
       "\n",
       "       PASSAGEIROS PAGANTES BILHETE ÚNICO ESTUDANTE MENSAL\\n\\n(E)   \\\n",
       "count                                      483672.000000             \n",
       "mean                                           14.113304             \n",
       "std                                            20.782508             \n",
       "min                                             0.000000             \n",
       "25%                                             1.000000             \n",
       "50%                                             6.000000             \n",
       "75%                                            19.000000             \n",
       "max                                           320.000000             \n",
       "\n",
       "       PASSAGEIROS PAGANTES BILHETE ÚNICO VALE TRANSPORTE\\n\\n(F)  \\\n",
       "count                                       483672.00000           \n",
       "mean                                           936.53699           \n",
       "std                                            927.78703           \n",
       "min                                              0.00000           \n",
       "25%                                            194.00000           \n",
       "50%                                            706.00000           \n",
       "75%                                           1395.00000           \n",
       "max                                           7382.00000           \n",
       "\n",
       "       PASSAGEIROS PAGANTES BILHETE ÚNICO VALE TRANSPORTE MENSAL\\n\\n(G)  \\\n",
       "count                                      483672.000000                  \n",
       "mean                                           65.316231                  \n",
       "std                                            84.484925                  \n",
       "min                                             0.000000                  \n",
       "25%                                            10.000000                  \n",
       "50%                                            37.000000                  \n",
       "75%                                            88.000000                  \n",
       "max                                          1161.000000                  \n",
       "\n",
       "       PASSAGEIROS PAGANTES INTEGRAÇÕES METRÔ E CPTM\\n\\n(H)  \\\n",
       "count                                      483672.000000      \n",
       "mean                                          277.780676      \n",
       "std                                           422.843691      \n",
       "min                                             0.000000      \n",
       "25%                                             5.000000      \n",
       "50%                                           106.000000      \n",
       "75%                                           373.000000      \n",
       "max                                          4811.000000      \n",
       "\n",
       "       PASSAGEIROS PAGANTES INTEGRAÇÕES METRÔ E CPTM MENSAL\\n\\n(I)  \\\n",
       "count                                      483672.000000             \n",
       "mean                                           51.393329             \n",
       "std                                            68.699409             \n",
       "min                                             0.000000             \n",
       "25%                                             8.000000             \n",
       "50%                                            28.000000             \n",
       "75%                                            67.000000             \n",
       "max                                           934.000000             \n",
       "\n",
       "       PASSAGEIROS PAGANTES\\n\\n(J) = (A+B+C+D+E+F+G+H+I)  \\\n",
       "count                                      483672.000000   \n",
       "mean                                         3010.888005   \n",
       "std                                          2927.314412   \n",
       "min                                             0.000000   \n",
       "25%                                           620.000000   \n",
       "50%                                          2303.000000   \n",
       "75%                                          4525.000000   \n",
       "max                                         21149.000000   \n",
       "\n",
       "       PASSAGEIROS INTEGRAÇÕES ÔNIBUS -> ÔNIBUS\\n\\n(K)  \\\n",
       "count                                    483672.000000   \n",
       "mean                                       1560.047937   \n",
       "std                                        1710.611254   \n",
       "min                                           0.000000   \n",
       "25%                                         284.000000   \n",
       "50%                                        1104.000000   \n",
       "75%                                        2226.000000   \n",
       "max                                       21888.000000   \n",
       "\n",
       "       PASSAGEIROS COM GRATUIDADE\\n\\n(L)  \\\n",
       "count                      483672.000000   \n",
       "mean                          790.477718   \n",
       "std                           785.488718   \n",
       "min                             0.000000   \n",
       "25%                           138.000000   \n",
       "50%                           598.000000   \n",
       "75%                          1186.000000   \n",
       "max                          6208.000000   \n",
       "\n",
       "       PASSAGEIROS COM GRATUIDADE ESTUDANTE\\n\\n(M)  \\\n",
       "count                                483672.000000   \n",
       "mean                                    641.996764   \n",
       "std                                     779.832904   \n",
       "min                                       0.000000   \n",
       "25%                                      46.000000   \n",
       "50%                                     365.000000   \n",
       "75%                                     961.000000   \n",
       "max                                    6945.000000   \n",
       "\n",
       "       TOTAL PASSAGEIROS TRANSPORTADOS\\n\\n(N) = (J + K + L + M)  \n",
       "count                                      484683.000000         \n",
       "mean                                         6005.356274         \n",
       "std                                          5842.413016         \n",
       "min                                             1.000000         \n",
       "25%                                          1244.000000         \n",
       "50%                                          4633.000000         \n",
       "75%                                          8958.000000         \n",
       "max                                         45115.000000         "
      ]
     },
     "execution_count": 34,
     "metadata": {},
     "output_type": "execute_result"
    }
   ],
   "source": [
    "passageiros_2016.describe()"
   ]
  },
  {
   "cell_type": "code",
   "execution_count": 31,
   "metadata": {},
   "outputs": [
    {
     "data": {
      "text/html": [
       "<div>\n",
       "<style scoped>\n",
       "    .dataframe tbody tr th:only-of-type {\n",
       "        vertical-align: middle;\n",
       "    }\n",
       "\n",
       "    .dataframe tbody tr th {\n",
       "        vertical-align: top;\n",
       "    }\n",
       "\n",
       "    .dataframe thead th {\n",
       "        text-align: right;\n",
       "    }\n",
       "</style>\n",
       "<table border=\"1\" class=\"dataframe\">\n",
       "  <thead>\n",
       "    <tr style=\"text-align: right;\">\n",
       "      <th></th>\n",
       "      <th>Unnamed: 0</th>\n",
       "      <th>DATA</th>\n",
       "      <th>TIPO</th>\n",
       "      <th>AREA</th>\n",
       "      <th>EMPRESA</th>\n",
       "      <th>LINHA</th>\n",
       "      <th>PASSAGEIROS PAGANTES EM DINHEIRO\n",
       "\n",
       "(A)</th>\n",
       "      <th>PASSAGEIROS PAGANTES BILHETE ÚNICO COMUM\n",
       "\n",
       "(B)</th>\n",
       "      <th>PASSAGEIROS PAGANTES BILHETE ÚNICO COMUM MENSAL\n",
       "\n",
       "(C)</th>\n",
       "      <th>PASSAGEIROS PAGANTES BILHETE ÚNICO ESTUDANTE\n",
       "\n",
       "(D)</th>\n",
       "      <th>PASSAGEIROS PAGANTES BILHETE ÚNICO ESTUDANTE MENSAL\n",
       "\n",
       "(E)</th>\n",
       "      <th>PASSAGEIROS PAGANTES BILHETE ÚNICO VALE TRANSPORTE\n",
       "\n",
       "(F)</th>\n",
       "      <th>PASSAGEIROS PAGANTES BILHETE ÚNICO VALE TRANSPORTE MENSAL\n",
       "\n",
       "(G)</th>\n",
       "      <th>PASSAGEIROS PAGANTES INTEGRAÇÕES METRÔ E CPTM\n",
       "\n",
       "(H)</th>\n",
       "      <th>PASSAGEIROS PAGANTES INTEGRAÇÕES METRÔ E CPTM MENSAL\n",
       "\n",
       "(I)</th>\n",
       "      <th>PASSAGEIROS PAGANTES\n",
       "\n",
       "(J) = (A+B+C+D+E+F+G+H+I)</th>\n",
       "      <th>PASSAGEIROS INTEGRAÇÕES ÔNIBUS -&gt; ÔNIBUS\n",
       "\n",
       "(K)</th>\n",
       "      <th>PASSAGEIROS COM GRATUIDADE\n",
       "\n",
       "(L)</th>\n",
       "      <th>PASSAGEIROS COM GRATUIDADE ESTUDANTE\n",
       "\n",
       "(M)</th>\n",
       "      <th>TOTAL PASSAGEIROS TRANSPORTADOS\n",
       "\n",
       "(N) = (J + K + L + M)</th>\n",
       "    </tr>\n",
       "  </thead>\n",
       "  <tbody>\n",
       "    <tr>\n",
       "      <th>0</th>\n",
       "      <td>0</td>\n",
       "      <td>2016-01-01</td>\n",
       "      <td>CONCESSAO</td>\n",
       "      <td>AREA 1</td>\n",
       "      <td>GATO PRETO</td>\n",
       "      <td>N10511 - TERM CACHOEIRINHA/TERM LAPA</td>\n",
       "      <td>51.0</td>\n",
       "      <td>59.0</td>\n",
       "      <td>11.0</td>\n",
       "      <td>0.0</td>\n",
       "      <td>0.0</td>\n",
       "      <td>29.0</td>\n",
       "      <td>1.0</td>\n",
       "      <td>7.0</td>\n",
       "      <td>1.0</td>\n",
       "      <td>160.0</td>\n",
       "      <td>143.0</td>\n",
       "      <td>41.0</td>\n",
       "      <td>11.0</td>\n",
       "      <td>355.0</td>\n",
       "    </tr>\n",
       "    <tr>\n",
       "      <th>1</th>\n",
       "      <td>1</td>\n",
       "      <td>2016-01-01</td>\n",
       "      <td>CONCESSAO</td>\n",
       "      <td>AREA 1</td>\n",
       "      <td>GATO PRETO</td>\n",
       "      <td>N14311 - METRO BARRA FUNDA/MORRO GRANDE</td>\n",
       "      <td>12.0</td>\n",
       "      <td>13.0</td>\n",
       "      <td>0.0</td>\n",
       "      <td>0.0</td>\n",
       "      <td>0.0</td>\n",
       "      <td>7.0</td>\n",
       "      <td>0.0</td>\n",
       "      <td>57.0</td>\n",
       "      <td>0.0</td>\n",
       "      <td>89.0</td>\n",
       "      <td>15.0</td>\n",
       "      <td>17.0</td>\n",
       "      <td>4.0</td>\n",
       "      <td>125.0</td>\n",
       "    </tr>\n",
       "    <tr>\n",
       "      <th>2</th>\n",
       "      <td>2</td>\n",
       "      <td>2016-01-01</td>\n",
       "      <td>CONCESSAO</td>\n",
       "      <td>AREA 1</td>\n",
       "      <td>GATO PRETO</td>\n",
       "      <td>800010 - TERM LAPA/PCA RAMOS</td>\n",
       "      <td>140.0</td>\n",
       "      <td>188.0</td>\n",
       "      <td>28.0</td>\n",
       "      <td>6.0</td>\n",
       "      <td>0.0</td>\n",
       "      <td>143.0</td>\n",
       "      <td>4.0</td>\n",
       "      <td>36.0</td>\n",
       "      <td>3.0</td>\n",
       "      <td>548.0</td>\n",
       "      <td>412.0</td>\n",
       "      <td>261.0</td>\n",
       "      <td>7.0</td>\n",
       "      <td>1228.0</td>\n",
       "    </tr>\n",
       "    <tr>\n",
       "      <th>3</th>\n",
       "      <td>3</td>\n",
       "      <td>2016-01-01</td>\n",
       "      <td>CONCESSAO</td>\n",
       "      <td>AREA 1</td>\n",
       "      <td>GATO PRETO</td>\n",
       "      <td>853821 - FREGUESIA DO O/PÇA PEDRO CORAZ</td>\n",
       "      <td>3.0</td>\n",
       "      <td>6.0</td>\n",
       "      <td>2.0</td>\n",
       "      <td>0.0</td>\n",
       "      <td>0.0</td>\n",
       "      <td>7.0</td>\n",
       "      <td>1.0</td>\n",
       "      <td>0.0</td>\n",
       "      <td>0.0</td>\n",
       "      <td>19.0</td>\n",
       "      <td>9.0</td>\n",
       "      <td>16.0</td>\n",
       "      <td>2.0</td>\n",
       "      <td>46.0</td>\n",
       "    </tr>\n",
       "    <tr>\n",
       "      <th>4</th>\n",
       "      <td>4</td>\n",
       "      <td>2016-01-01</td>\n",
       "      <td>CONCESSAO</td>\n",
       "      <td>AREA 1</td>\n",
       "      <td>GATO PRETO</td>\n",
       "      <td>854210 - BRASILANDIA/PCA DO CORREIO</td>\n",
       "      <td>301.0</td>\n",
       "      <td>317.0</td>\n",
       "      <td>44.0</td>\n",
       "      <td>11.0</td>\n",
       "      <td>0.0</td>\n",
       "      <td>347.0</td>\n",
       "      <td>5.0</td>\n",
       "      <td>38.0</td>\n",
       "      <td>5.0</td>\n",
       "      <td>1068.0</td>\n",
       "      <td>394.0</td>\n",
       "      <td>394.0</td>\n",
       "      <td>28.0</td>\n",
       "      <td>1884.0</td>\n",
       "    </tr>\n",
       "  </tbody>\n",
       "</table>\n",
       "</div>"
      ],
      "text/plain": [
       "   Unnamed: 0        DATA       TIPO    AREA     EMPRESA  \\\n",
       "0           0  2016-01-01  CONCESSAO  AREA 1  GATO PRETO   \n",
       "1           1  2016-01-01  CONCESSAO  AREA 1  GATO PRETO   \n",
       "2           2  2016-01-01  CONCESSAO  AREA 1  GATO PRETO   \n",
       "3           3  2016-01-01  CONCESSAO  AREA 1  GATO PRETO   \n",
       "4           4  2016-01-01  CONCESSAO  AREA 1  GATO PRETO   \n",
       "\n",
       "                                     LINHA  \\\n",
       "0     N10511 - TERM CACHOEIRINHA/TERM LAPA   \n",
       "1  N14311 - METRO BARRA FUNDA/MORRO GRANDE   \n",
       "2             800010 - TERM LAPA/PCA RAMOS   \n",
       "3  853821 - FREGUESIA DO O/PÇA PEDRO CORAZ   \n",
       "4      854210 - BRASILANDIA/PCA DO CORREIO   \n",
       "\n",
       "   PASSAGEIROS PAGANTES EM DINHEIRO\\n\\n(A)  \\\n",
       "0                                     51.0   \n",
       "1                                     12.0   \n",
       "2                                    140.0   \n",
       "3                                      3.0   \n",
       "4                                    301.0   \n",
       "\n",
       "   PASSAGEIROS PAGANTES BILHETE ÚNICO COMUM\\n\\n(B)  \\\n",
       "0                                             59.0   \n",
       "1                                             13.0   \n",
       "2                                            188.0   \n",
       "3                                              6.0   \n",
       "4                                            317.0   \n",
       "\n",
       "   PASSAGEIROS PAGANTES BILHETE ÚNICO COMUM MENSAL\\n\\n(C)  \\\n",
       "0                                               11.0        \n",
       "1                                                0.0        \n",
       "2                                               28.0        \n",
       "3                                                2.0        \n",
       "4                                               44.0        \n",
       "\n",
       "   PASSAGEIROS PAGANTES BILHETE ÚNICO ESTUDANTE\\n\\n(D)   \\\n",
       "0                                                0.0      \n",
       "1                                                0.0      \n",
       "2                                                6.0      \n",
       "3                                                0.0      \n",
       "4                                               11.0      \n",
       "\n",
       "   PASSAGEIROS PAGANTES BILHETE ÚNICO ESTUDANTE MENSAL\\n\\n(E)   \\\n",
       "0                                                0.0             \n",
       "1                                                0.0             \n",
       "2                                                0.0             \n",
       "3                                                0.0             \n",
       "4                                                0.0             \n",
       "\n",
       "   PASSAGEIROS PAGANTES BILHETE ÚNICO VALE TRANSPORTE\\n\\n(F)  \\\n",
       "0                                               29.0           \n",
       "1                                                7.0           \n",
       "2                                              143.0           \n",
       "3                                                7.0           \n",
       "4                                              347.0           \n",
       "\n",
       "   PASSAGEIROS PAGANTES BILHETE ÚNICO VALE TRANSPORTE MENSAL\\n\\n(G)  \\\n",
       "0                                                1.0                  \n",
       "1                                                0.0                  \n",
       "2                                                4.0                  \n",
       "3                                                1.0                  \n",
       "4                                                5.0                  \n",
       "\n",
       "   PASSAGEIROS PAGANTES INTEGRAÇÕES METRÔ E CPTM\\n\\n(H)  \\\n",
       "0                                                7.0      \n",
       "1                                               57.0      \n",
       "2                                               36.0      \n",
       "3                                                0.0      \n",
       "4                                               38.0      \n",
       "\n",
       "   PASSAGEIROS PAGANTES INTEGRAÇÕES METRÔ E CPTM MENSAL\\n\\n(I)  \\\n",
       "0                                                1.0             \n",
       "1                                                0.0             \n",
       "2                                                3.0             \n",
       "3                                                0.0             \n",
       "4                                                5.0             \n",
       "\n",
       "   PASSAGEIROS PAGANTES\\n\\n(J) = (A+B+C+D+E+F+G+H+I)  \\\n",
       "0                                              160.0   \n",
       "1                                               89.0   \n",
       "2                                              548.0   \n",
       "3                                               19.0   \n",
       "4                                             1068.0   \n",
       "\n",
       "   PASSAGEIROS INTEGRAÇÕES ÔNIBUS -> ÔNIBUS\\n\\n(K)  \\\n",
       "0                                            143.0   \n",
       "1                                             15.0   \n",
       "2                                            412.0   \n",
       "3                                              9.0   \n",
       "4                                            394.0   \n",
       "\n",
       "   PASSAGEIROS COM GRATUIDADE\\n\\n(L)  \\\n",
       "0                               41.0   \n",
       "1                               17.0   \n",
       "2                              261.0   \n",
       "3                               16.0   \n",
       "4                              394.0   \n",
       "\n",
       "   PASSAGEIROS COM GRATUIDADE ESTUDANTE\\n\\n(M)  \\\n",
       "0                                         11.0   \n",
       "1                                          4.0   \n",
       "2                                          7.0   \n",
       "3                                          2.0   \n",
       "4                                         28.0   \n",
       "\n",
       "   TOTAL PASSAGEIROS TRANSPORTADOS\\n\\n(N) = (J + K + L + M)  \n",
       "0                                              355.0         \n",
       "1                                              125.0         \n",
       "2                                             1228.0         \n",
       "3                                               46.0         \n",
       "4                                             1884.0         "
      ]
     },
     "execution_count": 31,
     "metadata": {},
     "output_type": "execute_result"
    }
   ],
   "source": [
    "passageiros_2016.head()"
   ]
  },
  {
   "cell_type": "code",
   "execution_count": 35,
   "metadata": {},
   "outputs": [
    {
     "data": {
      "text/plain": [
       "DATA        AREA  \n",
       "2016-01-01  AREA 1    1507.530769\n",
       "            AREA 2    1284.013793\n",
       "            AREA 3    1586.542484\n",
       "            AREA 4    1625.317241\n",
       "            AREA 5    1249.030534\n",
       "            AREA 6    2027.905660\n",
       "            AREA 7    2060.516340\n",
       "            AREA 8    1144.000000\n",
       "2016-01-02  AREA 1    2888.130769\n",
       "            AREA 2    2531.427586\n",
       "            AREA 3    2929.628378\n",
       "            AREA 4    3003.541667\n",
       "            AREA 5    2466.937008\n",
       "            AREA 6    3388.070513\n",
       "            AREA 7    3599.369128\n",
       "            AREA 8    2325.247312\n",
       "2016-01-03  AREA 1    2321.635659\n",
       "            AREA 2    2066.455172\n",
       "            AREA 3    2469.442177\n",
       "            AREA 4    2644.601399\n",
       "            AREA 5    2048.330709\n",
       "            AREA 6    3049.784314\n",
       "            AREA 7    3239.482759\n",
       "            AREA 8    1950.967033\n",
       "2016-01-04  AREA 1    5314.852761\n",
       "            AREA 2    5142.023669\n",
       "            AREA 3    5062.546875\n",
       "            AREA 4    5937.822086\n",
       "            AREA 5    5255.621622\n",
       "            AREA 6    5654.428571\n",
       "                         ...     \n",
       "2016-12-28  AREA 3    4983.489247\n",
       "            AREA 4    6172.063291\n",
       "            AREA 5    4919.231293\n",
       "            AREA 6    5581.145000\n",
       "            AREA 7    6044.522613\n",
       "            AREA 8    4284.062992\n",
       "2016-12-29  AREA 1    5127.256250\n",
       "            AREA 2    4805.533333\n",
       "            AREA 3    4814.748663\n",
       "            AREA 4    5971.968354\n",
       "            AREA 5    4756.424658\n",
       "            AREA 6    5376.710784\n",
       "            AREA 7    5988.101010\n",
       "            AREA 8    4209.700787\n",
       "2016-12-30  AREA 1    4555.347826\n",
       "            AREA 2    4274.402439\n",
       "            AREA 3    4449.446237\n",
       "            AREA 4    5412.873418\n",
       "            AREA 5    4158.438356\n",
       "            AREA 6    4901.896552\n",
       "            AREA 7    5216.175879\n",
       "            AREA 8    3602.682540\n",
       "2016-12-31  AREA 1    2983.368794\n",
       "            AREA 2    2485.248322\n",
       "            AREA 3    3085.371069\n",
       "            AREA 4    3444.374150\n",
       "            AREA 5    2577.689394\n",
       "            AREA 6    3532.597633\n",
       "            AREA 7    3479.792683\n",
       "            AREA 8    1932.852174\n",
       "Name: TOTAL PASSAGEIROS TRANSPORTADOS\\n\\n(N) = (J + K + L + M), Length: 2928, dtype: float64"
      ]
     },
     "execution_count": 35,
     "metadata": {},
     "output_type": "execute_result"
    }
   ],
   "source": [
    "passageiros_2016.groupby(['DATA', 'AREA'])['TOTAL PASSAGEIROS TRANSPORTADOS\\n\\n(N) = (J + K + L + M)'].mean()"
   ]
  },
  {
   "cell_type": "code",
   "execution_count": 36,
   "metadata": {},
   "outputs": [],
   "source": [
    "passageiros_2014['TOTAL PASSAGEIROS TRANSPORTADOS\\n\\n(N) = (J + K + L + M)'] = passageiros_2014['TOTAL PASSAGEIROS TRANSPORTADOS\\n\\n(M) = (J + K + L)']"
   ]
  },
  {
   "cell_type": "code",
   "execution_count": 37,
   "metadata": {},
   "outputs": [],
   "source": [
    "passageiros_2015['TOTAL PASSAGEIROS TRANSPORTADOS\\n\\n(N) = (J + K + L + M)'] = passageiros_2015['TOTAL PASSAGEIROS TRANSPORTADOS\\n\\n(M) = (J + K + L)']"
   ]
  },
  {
   "cell_type": "code",
   "execution_count": 38,
   "metadata": {},
   "outputs": [
    {
     "name": "stderr",
     "output_type": "stream",
     "text": [
      "C:\\Users\\alank\\AppData\\Local\\Continuum\\anaconda3\\lib\\site-packages\\ipykernel_launcher.py:1: FutureWarning: Sorting because non-concatenation axis is not aligned. A future version\n",
      "of pandas will change to not sort by default.\n",
      "\n",
      "To accept the future behavior, pass 'sort=False'.\n",
      "\n",
      "To retain the current behavior and silence the warning, pass 'sort=True'.\n",
      "\n",
      "  \"\"\"Entry point for launching an IPython kernel.\n"
     ]
    }
   ],
   "source": [
    "df = pd.concat([passageiros_2014, passageiros_2015, passageiros_2016])"
   ]
  },
  {
   "cell_type": "code",
   "execution_count": 39,
   "metadata": {},
   "outputs": [],
   "source": [
    "df.drop('Unnamed: 0', axis = 1, inplace = True)"
   ]
  },
  {
   "cell_type": "code",
   "execution_count": 40,
   "metadata": {},
   "outputs": [
    {
     "data": {
      "text/plain": [
       "CONCESSAO    878675\n",
       "PERMISSAO    533386\n",
       "Name: TIPO, dtype: int64"
      ]
     },
     "execution_count": 40,
     "metadata": {},
     "output_type": "execute_result"
    }
   ],
   "source": [
    "df['TIPO'].value_counts()"
   ]
  },
  {
   "cell_type": "code",
   "execution_count": 41,
   "metadata": {},
   "outputs": [],
   "source": [
    "df = df[df['DATA'] != '42065' ]"
   ]
  },
  {
   "cell_type": "code",
   "execution_count": 42,
   "metadata": {},
   "outputs": [],
   "source": [
    "df['DATA'] =  pd.to_datetime(df['DATA'])\n"
   ]
  },
  {
   "cell_type": "code",
   "execution_count": 43,
   "metadata": {},
   "outputs": [],
   "source": [
    "df['mes'] = df['DATA'].dt.month"
   ]
  },
  {
   "cell_type": "code",
   "execution_count": 44,
   "metadata": {},
   "outputs": [],
   "source": [
    "df['ano'] = df['DATA'].dt.year"
   ]
  },
  {
   "cell_type": "code",
   "execution_count": 45,
   "metadata": {},
   "outputs": [],
   "source": [
    "df['ano-mes'] = pd.to_datetime(df['DATA']).dt.to_period('M')\n"
   ]
  },
  {
   "cell_type": "code",
   "execution_count": 152,
   "metadata": {},
   "outputs": [],
   "source": [
    "df['weekday'] = df['DATA'].dt.dayofweek"
   ]
  },
  {
   "cell_type": "code",
   "execution_count": 46,
   "metadata": {},
   "outputs": [
    {
     "data": {
      "text/plain": [
       "1414038"
      ]
     },
     "execution_count": 46,
     "metadata": {},
     "output_type": "execute_result"
    }
   ],
   "source": [
    "len(df)"
   ]
  },
  {
   "cell_type": "code",
   "execution_count": 47,
   "metadata": {},
   "outputs": [],
   "source": [
    "df.dropna(axis = 0, inplace = True, how = 'all')"
   ]
  },
  {
   "cell_type": "code",
   "execution_count": 48,
   "metadata": {},
   "outputs": [
    {
     "data": {
      "text/plain": [
       "1413002"
      ]
     },
     "execution_count": 48,
     "metadata": {},
     "output_type": "execute_result"
    }
   ],
   "source": [
    "len(df)"
   ]
  },
  {
   "cell_type": "code",
   "execution_count": 49,
   "metadata": {},
   "outputs": [
    {
     "data": {
      "text/plain": [
       "Index(['AREA', 'DATA', 'EMPRESA', 'LINHA', 'PASSAGEIROS COM GRATUIDADE\\n\\n(H)',\n",
       "       'PASSAGEIROS COM GRATUIDADE\\n\\n(L)',\n",
       "       'PASSAGEIROS COM GRATUIDADE ESTUDANTE\\n\\n(M)',\n",
       "       'PASSAGEIROS INTEGRAÇÕES ÔNIBUS -> ÔNIBUS\\n\\n(G)',\n",
       "       'PASSAGEIROS INTEGRAÇÕES ÔNIBUS -> ÔNIBUS\\n\\n(K)',\n",
       "       'PASSAGEIROS PAGANTES\\n\\n(F) = (A + B + C + D + E)',\n",
       "       'PASSAGEIROS PAGANTES\\n\\n(J) = (A+B+C+D+E+F+G+H+I)',\n",
       "       'PASSAGEIROS PAGANTES BILHETE ÚNICO COMUM\\n\\n(B)',\n",
       "       'PASSAGEIROS PAGANTES BILHETE ÚNICO COMUM MENSAL\\n\\n(C)',\n",
       "       'PASSAGEIROS PAGANTES BILHETE ÚNICO ESTUDANTE\\n\\n(C) ',\n",
       "       'PASSAGEIROS PAGANTES BILHETE ÚNICO ESTUDANTE\\n\\n(D) ',\n",
       "       'PASSAGEIROS PAGANTES BILHETE ÚNICO ESTUDANTE MENSAL\\n\\n(E) ',\n",
       "       'PASSAGEIROS PAGANTES BILHETE ÚNICO VALE TRANSPORTE\\n\\n(D)',\n",
       "       'PASSAGEIROS PAGANTES BILHETE ÚNICO VALE TRANSPORTE\\n\\n(F)',\n",
       "       'PASSAGEIROS PAGANTES BILHETE ÚNICO VALE TRANSPORTE MENSAL\\n\\n(G)',\n",
       "       'PASSAGEIROS PAGANTES EM DINHEIRO\\n\\n(A)',\n",
       "       'PASSAGEIROS PAGANTES INTEGRAÇÕES METRÔ E CPTM\\n\\n(E)',\n",
       "       'PASSAGEIROS PAGANTES INTEGRAÇÕES METRÔ E CPTM\\n\\n(H)',\n",
       "       'PASSAGEIROS PAGANTES INTEGRAÇÕES METRÔ E CPTM MENSAL\\n\\n(I)', 'TIPO',\n",
       "       'TOTAL PASSAGEIROS TRANSPORTADOS\\n\\n(I) = (F + G + H)',\n",
       "       'TOTAL PASSAGEIROS TRANSPORTADOS\\n\\n(M) = (J + K + L)',\n",
       "       'TOTAL PASSAGEIROS TRANSPORTADOS\\n\\n(N) = (J + K + L + M)', 'mes',\n",
       "       'ano', 'ano-mes'],\n",
       "      dtype='object')"
      ]
     },
     "execution_count": 49,
     "metadata": {},
     "output_type": "execute_result"
    }
   ],
   "source": [
    "df.columns"
   ]
  },
  {
   "cell_type": "code",
   "execution_count": 50,
   "metadata": {},
   "outputs": [],
   "source": [
    "df = df[df['TOTAL PASSAGEIROS TRANSPORTADOS\\n\\n(N) = (J + K + L + M)'].notnull()]"
   ]
  },
  {
   "cell_type": "code",
   "execution_count": 51,
   "metadata": {},
   "outputs": [
    {
     "data": {
      "text/plain": [
       "1026750"
      ]
     },
     "execution_count": 51,
     "metadata": {},
     "output_type": "execute_result"
    }
   ],
   "source": [
    "len(df)"
   ]
  },
  {
   "cell_type": "code",
   "execution_count": 153,
   "metadata": {},
   "outputs": [],
   "source": [
    "df6 =pd.pivot_table(data=df, values ='TOTAL PASSAGEIROS TRANSPORTADOS\\n\\n(N) = (J + K + L + M)' , index = 'weekday', columns= 'AREA', aggfunc ='sum')"
   ]
  },
  {
   "cell_type": "code",
   "execution_count": 160,
   "metadata": {},
   "outputs": [
    {
     "data": {
      "text/plain": [
       "array([ 0.,  1.,  2.,  3.,  4.,  5.,  6., nan])"
      ]
     },
     "execution_count": 160,
     "metadata": {},
     "output_type": "execute_result"
    }
   ],
   "source": [
    "df['weekday'].unique()"
   ]
  },
  {
   "cell_type": "code",
   "execution_count": 164,
   "metadata": {},
   "outputs": [
    {
     "data": {
      "text/plain": [
       "[103935651.28571428,\n",
       " 107832660.42857143,\n",
       " 129178656.28571428,\n",
       " 111302524.57142857,\n",
       " 93773294.71428572,\n",
       " 140405514.57142857,\n",
       " 148393916.85714287]"
      ]
     },
     "execution_count": 164,
     "metadata": {},
     "output_type": "execute_result"
    }
   ],
   "source": [
    "mean_week_day[0:7]"
   ]
  },
  {
   "cell_type": "code",
   "execution_count": 163,
   "metadata": {},
   "outputs": [
    {
     "data": {
      "text/plain": [
       "<BarContainer object of 7 artists>"
      ]
     },
     "execution_count": 163,
     "metadata": {},
     "output_type": "execute_result"
    },
    {
     "data": {
      "image/png": "[encoded data removed]",
      "text/plain": [
       "<Figure size 432x288 with 1 Axes>"
      ]
     },
     "metadata": {
      "needs_background": "light"
     },
     "output_type": "display_data"
    }
   ],
   "source": [
    "df6\n",
    "mean_week_day = []\n",
    "for column in df2.columns:\n",
    "    media = df6[column].mean()\n",
    "    mean_week_day.append(media)\n",
    "mean_week_day = mean_week_day[0:7]\n",
    "labels_semana = ['Segunda', 'Terça', 'Quarta', 'Quinta', 'Sexta', 'Sábado', 'Domingo']\n",
    "plt.bar(x = labels_semana, height = mean_week_day)"
   ]
  },
  {
   "cell_type": "code",
   "execution_count": null,
   "metadata": {},
   "outputs": [],
   "source": []
  },
  {
   "cell_type": "code",
   "execution_count": null,
   "metadata": {},
   "outputs": [],
   "source": []
  },
  {
   "cell_type": "code",
   "execution_count": 92,
   "metadata": {},
   "outputs": [],
   "source": [
    "df2 = pd.pivot_table(data=df, values ='TOTAL PASSAGEIROS TRANSPORTADOS\\n\\n(N) = (J + K + L + M)' , index = 'DATA', columns= 'AREA', aggfunc ='sum')"
   ]
  },
  {
   "cell_type": "code",
   "execution_count": 154,
   "metadata": {},
   "outputs": [],
   "source": [
    "#df2"
   ]
  },
  {
   "cell_type": "code",
   "execution_count": 97,
   "metadata": {},
   "outputs": [
    {
     "data": {
      "text/plain": [
       "[904912.3868159204,\n",
       " 938841.5708955224,\n",
       " 1124689.7935323382,\n",
       " 969051.8308457711,\n",
       " 816434.157960199,\n",
       " 1222436.0721393034,\n",
       " 1291986.8383084578,\n",
       " 641684.5435323383]"
      ]
     },
     "execution_count": 97,
     "metadata": {},
     "output_type": "execute_result"
    }
   ],
   "source": [
    "mean_area = []\n",
    "for column in df2.columns:\n",
    "    media = df2[column].mean()\n",
    "    mean_area.append(media)\n",
    "mean_area"
   ]
  },
  {
   "cell_type": "code",
   "execution_count": 104,
   "metadata": {},
   "outputs": [
    {
     "name": "stdout",
     "output_type": "stream",
     "text": [
      "AREA 1 - 904912.3868159204\n",
      "AREA 2 - 938841.5708955224\n",
      "AREA 3 - 1124689.7935323382\n",
      "AREA 4 - 969051.8308457711\n",
      "AREA 5 - 816434.157960199\n",
      "AREA 6 - 1222436.0721393034\n",
      "AREA 7 - 1291986.8383084578\n",
      "AREA 8 - 641684.5435323383\n"
     ]
    }
   ],
   "source": [
    "list2 = []\n",
    "for i in range(8):\n",
    "    print('AREA '+str(i + 1)+' - '+str(mean_area[i]))\n",
    "    list2.append(mean_area[i])"
   ]
  },
  {
   "cell_type": "code",
   "execution_count": 106,
   "metadata": {},
   "outputs": [
    {
     "data": {
      "image/png": "[encoded data removed]",
      "text/plain": [
       "<Figure size 432x288 with 1 Axes>"
      ]
     },
     "metadata": {
      "needs_background": "light"
     },
     "output_type": "display_data"
    }
   ],
   "source": [
    "plt.bar(x = df2.columns, height = list2);"
   ]
  },
  {
   "cell_type": "code",
   "execution_count": 64,
   "metadata": {},
   "outputs": [],
   "source": [
    "labels_areas = df2.columns"
   ]
  },
  {
   "cell_type": "code",
   "execution_count": 98,
   "metadata": {},
   "outputs": [
    {
     "data": {
      "image/png": "[encoded data removed]",
      "text/plain": [
       "<Figure size 432x288 with 1 Axes>"
      ]
     },
     "metadata": {},
     "output_type": "display_data"
    }
   ],
   "source": [
    "plt.pie(mean_area, labels = labels_areas);"
   ]
  },
  {
   "cell_type": "code",
   "execution_count": 68,
   "metadata": {},
   "outputs": [
    {
     "data": {
      "text/plain": [
       "AREA    LINHA                                  \n",
       "AREA 8  870010 - T CAMPO LIMPO/PCA R D AZEVEDO     27996985.0\n",
       "AREA 7  675K10 - TERM JD ANGELA-METRO STA CRUZ     25741644.0\n",
       "AREA 6  691310 - TERM BANDEIRA/TERM VARGINHA       24812403.0\n",
       "AREA 3  431010 - E.T.ITAQUERA/TERM PQ D PEDRO      24811733.0\n",
       "        220210 - HOSP ITAIM/GUAIAZAZES             23141539.0\n",
       "AREA 1  978T10 - JD GUARANI/METRO BARRA FUNDA      20571944.0\n",
       "AREA 7  695T10 - TERM.CAPELINHA/METRO V.MARIANA    19770836.0\n",
       "AREA 4  376310 - TERM VL CARRAO/METRO TATUAPE      19582618.0\n",
       "AREA 8  875C10 - LAPA/METRO STA CRUZ               18338546.0\n",
       "AREA 7  620010 - TERM STO AMARO/TERM BANDEIRA      18285284.0\n",
       "Name: TOTAL PASSAGEIROS TRANSPORTADOS\\n\\n(N) = (J + K + L + M), dtype: float64"
      ]
     },
     "execution_count": 68,
     "metadata": {},
     "output_type": "execute_result"
    }
   ],
   "source": [
    "df.groupby(['AREA', 'LINHA'])['TOTAL PASSAGEIROS TRANSPORTADOS\\n\\n(N) = (J + K + L + M)'].sum().sort_values(ascending= False).head(10)"
   ]
  },
  {
   "cell_type": "code",
   "execution_count": 52,
   "metadata": {},
   "outputs": [
    {
     "data": {
      "text/plain": [
       "AREA    LINHA                                  \n",
       "AREA 8  870010 - T CAMPO LIMPO/PCA R D AZEVEDO     27996985.0\n",
       "AREA 7  675K10 - TERM JD ANGELA-METRO STA CRUZ     25741644.0\n",
       "AREA 6  691310 - TERM BANDEIRA/TERM VARGINHA       24812403.0\n",
       "AREA 3  431010 - E.T.ITAQUERA/TERM PQ D PEDRO      24811733.0\n",
       "        220210 - HOSP ITAIM/GUAIAZAZES             23141539.0\n",
       "Name: TOTAL PASSAGEIROS TRANSPORTADOS\\n\\n(N) = (J + K + L + M), dtype: float64"
      ]
     },
     "execution_count": 52,
     "metadata": {},
     "output_type": "execute_result"
    }
   ],
   "source": [
    "df.groupby(['AREA', 'LINHA'])['TOTAL PASSAGEIROS TRANSPORTADOS\\n\\n(N) = (J + K + L + M)'].sum().sort_values(ascending= False).head()"
   ]
  },
  {
   "cell_type": "code",
   "execution_count": 21,
   "metadata": {},
   "outputs": [
    {
     "data": {
      "text/plain": [
       "AREA    LINHA                                  \n",
       "AREA 1  201410 - JD PERI ALTO/METRO BARRA FUNDA    1.0\n",
       "AREA 7  857R41 - E HEBRAICA REBOUÇAS/M PARAISO     1.0\n",
       "AREA 4  502010 - HOSP HELIOP/TERM SACOMA           1.0\n",
       "AREA 1  880910 - PERUS/CCPD RAUL TABAJARA          1.0\n",
       "AREA 7  PAESE3 - PAESE AREA 3                      1.0\n",
       "AREA 4  370310 - JD NOVA VITORIA/METRO CARRAO      1.0\n",
       "AREA 2  130110 - TERM CASA VERDE/PÇ DO CORREIO     1.0\n",
       "AREA 6  516N23 - JD MIRIAM/PÇA D. GASTAO L PINT    1.0\n",
       "AREA 3  368641 - GUAIANAZES-TERM.D.PEDRO II        1.0\n",
       "        531710 - CENTRO SESC-LGO.SAO FRANCISCO     1.0\n",
       "AREA 8  735710 - INOCOOP CAMPO LIMPO/PINHEIROS     1.0\n",
       "AREA 1  817C10 - LAPA/H.CLINICAS CIRCULAR          1.0\n",
       "AREA 4  370210 - EST JOSE BONIFACIO/METRO PENHA    1.0\n",
       "AREA 7  739310 - INOCOOP C.LIMPO/EST.DA LUZ        1.0\n",
       "        602310 - JD HORIZONTE AZUL/SANTO AMARO     1.0\n",
       "        600910 - JD SAO LOURENCO/SANTO AMARO       1.0\n",
       "AREA 4  402510 - VILA CALIFORNIA/METRO TATUAPE     1.0\n",
       "AREA 6  601510 - VILA CALU/SANTO AMARO             1.0\n",
       "        901410 - MORRO GRANDE/TERMINAL LAPA        1.0\n",
       "AREA 4  273610 - LIMOEIRO/METRO PENHA              1.0\n",
       "AREA 6  605910 - JD UNIVERSAL/SANTO AMARO          1.0\n",
       "AREA 4  341451 - CID LIDER/LGO DA CONCORDIA        1.0\n",
       "AREA 6  817110 - PERUS/PINHEIROS                   2.0\n",
       "AREA 7  645001 - TERM CAPELINHA/TERM BANDEIRA      2.0\n",
       "AREA 4  300610 - JD FANGANIELO/ES CPTM GUAIANAZ    2.0\n",
       "AREA 6  971710 - COHAB BRASILANDIA/SANTANA         2.0\n",
       "AREA 5  342P10 - VILA INDUSTRIAL/PENHA             2.0\n",
       "AREA 3  702U10 - BUTANTA USP/PARQUE D. PEDRO II    2.0\n",
       "AREA 6  606M10 - EST JURUBATUBA/SA MAE DE DEUS     2.0\n",
       "        602510 - JD GUARUJA/SANTO AMARO            2.0\n",
       "AREA 5  572710 - IPIRANGA/METRO ALTO IPIRANGA      2.0\n",
       "AREA 4  309810 - JD SAO FRANCISCO/SHOP ARICANDU    2.0\n",
       "AREA 6  EVENT3 - E V E N T O 3                     3.0\n",
       "AREA 2  971P10 - VILA PENTEADO/METRO SANTANA       3.0\n",
       "        702U10 - BUTANTA USP/PARQUE D. PEDRO II    3.0\n",
       "AREA 4  302810 - GUAIANAZES/JD N S DO CARMO        4.0\n",
       "AREA 6  601810 - Jd Lucélia - Term Santo Amaro     4.0\n",
       "AREA 3  800010 - TERM LAPA/PCA RAMOS               4.0\n",
       "        901410 - MORRO GRANDE/TERMINAL LAPA        5.0\n",
       "AREA 1  831921 - SHOP VILA LOBOS/PQ CONTINENAL     5.0\n",
       "AREA 7  607210 - JD SAO NICOLAU/TERM. VARGINHA     5.0\n",
       "        669A41 - TERM.STO.AMARO-HOSP. CLINICAS     5.0\n",
       "        701510 - V SANTA LUCIA/TERM SANTO AMARO    5.0\n",
       "AREA 6  800010 - TERM LAPA/PCA RAMOS               5.0\n",
       "        502J41 - VILA PEDREIRA/SHOP PLAZA SUL      5.0\n",
       "AREA 7  534110 - JD S FRANCISCO/SANTO AMARO        5.0\n",
       "AREA 2  N13911 - TERM PIRITUBA/JD PAULISTANO       5.0\n",
       "        800010 - TERM LAPA/PCA RAMOS               5.0\n",
       "AREA 5  570310 - C.A.IPIRANGA/METRO IMIGRANTES     5.0\n",
       "AREA 1  110111 - TERM LAPA/TERM PQ D PEDRO II      5.0\n",
       "Name: TOTAL PASSAGEIROS TRANSPORTADOS\\n\\n(N) = (J + K + L + M), dtype: float64"
      ]
     },
     "execution_count": 21,
     "metadata": {},
     "output_type": "execute_result"
    }
   ],
   "source": [
    "df.groupby(['AREA', 'LINHA'])['TOTAL PASSAGEIROS TRANSPORTADOS\\n\\n(N) = (J + K + L + M)'].sum().sort_values(ascending= True).head(50)"
   ]
  },
  {
   "cell_type": "code",
   "execution_count": 22,
   "metadata": {},
   "outputs": [
    {
     "data": {
      "text/plain": [
       "[226, 251, 312, 242, 203, 288, 299, 185]"
      ]
     },
     "execution_count": 22,
     "metadata": {},
     "output_type": "execute_result"
    }
   ],
   "source": [
    "list_area_linha = []\n",
    "for i in df.groupby(['AREA'])['LINHA'].unique():\n",
    "    tamanho = len(i)\n",
    "    list_area_linha.append(tamanho)\n",
    "list_area_linha    \n",
    "\n",
    "for i in range(8):\n",
    "    print('AREA '+str(i)+str(list_area_linha[i])"
   ]
  },
  {
   "cell_type": "code",
   "execution_count": 111,
   "metadata": {},
   "outputs": [
    {
     "data": {
      "text/plain": [
       "<BarContainer object of 8 artists>"
      ]
     },
     "execution_count": 111,
     "metadata": {},
     "output_type": "execute_result"
    },
    {
     "data": {
      "image/png": "[encoded data removed]",
      "text/plain": [
       "<Figure size 432x288 with 1 Axes>"
      ]
     },
     "metadata": {
      "needs_background": "light"
     },
     "output_type": "display_data"
    }
   ],
   "source": [
    "plt.bar(x = df2.columns, height = list_area_linha, color='g')"
   ]
  },
  {
   "cell_type": "code",
   "execution_count": 77,
   "metadata": {},
   "outputs": [
    {
     "name": "stdout",
     "output_type": "stream",
     "text": [
      "AREA 1 - 226 linhas\n",
      "AREA 2 - 251 linhas\n",
      "AREA 3 - 312 linhas\n",
      "AREA 4 - 242 linhas\n",
      "AREA 5 - 203 linhas\n",
      "AREA 6 - 288 linhas\n",
      "AREA 7 - 299 linhas\n",
      "AREA 8 - 185 linhas\n"
     ]
    }
   ],
   "source": [
    "for i in range(8):\n",
    "    print('AREA '+str(i + 1)+' - '+str(list_area_linha[i])+' linhas')"
   ]
  },
  {
   "cell_type": "code",
   "execution_count": 112,
   "metadata": {},
   "outputs": [],
   "source": [
    "frotas_cadastradas = [1674,1806,1910,1903,1377,2205,2141,1303]"
   ]
  },
  {
   "cell_type": "code",
   "execution_count": 24,
   "metadata": {},
   "outputs": [
    {
     "data": {
      "text/html": [
       "<div>\n",
       "<style scoped>\n",
       "    .dataframe tbody tr th:only-of-type {\n",
       "        vertical-align: middle;\n",
       "    }\n",
       "\n",
       "    .dataframe tbody tr th {\n",
       "        vertical-align: top;\n",
       "    }\n",
       "\n",
       "    .dataframe thead th {\n",
       "        text-align: right;\n",
       "    }\n",
       "</style>\n",
       "<table border=\"1\" class=\"dataframe\">\n",
       "  <thead>\n",
       "    <tr style=\"text-align: right;\">\n",
       "      <th></th>\n",
       "      <th>AREA</th>\n",
       "      <th>DATA</th>\n",
       "      <th>EMPRESA</th>\n",
       "      <th>LINHA</th>\n",
       "      <th>PASSAGEIROS COM GRATUIDADE\n",
       "\n",
       "(H)</th>\n",
       "      <th>PASSAGEIROS COM GRATUIDADE\n",
       "\n",
       "(L)</th>\n",
       "      <th>PASSAGEIROS COM GRATUIDADE ESTUDANTE\n",
       "\n",
       "(M)</th>\n",
       "      <th>PASSAGEIROS INTEGRAÇÕES ÔNIBUS -&gt; ÔNIBUS\n",
       "\n",
       "(G)</th>\n",
       "      <th>PASSAGEIROS INTEGRAÇÕES ÔNIBUS -&gt; ÔNIBUS\n",
       "\n",
       "(K)</th>\n",
       "      <th>PASSAGEIROS PAGANTES\n",
       "\n",
       "(F) = (A + B + C + D + E)</th>\n",
       "      <th>...</th>\n",
       "      <th>PASSAGEIROS PAGANTES INTEGRAÇÕES METRÔ E CPTM\n",
       "\n",
       "(E)</th>\n",
       "      <th>PASSAGEIROS PAGANTES INTEGRAÇÕES METRÔ E CPTM\n",
       "\n",
       "(H)</th>\n",
       "      <th>PASSAGEIROS PAGANTES INTEGRAÇÕES METRÔ E CPTM MENSAL\n",
       "\n",
       "(I)</th>\n",
       "      <th>TIPO</th>\n",
       "      <th>TOTAL PASSAGEIROS TRANSPORTADOS\n",
       "\n",
       "(I) = (F + G + H)</th>\n",
       "      <th>TOTAL PASSAGEIROS TRANSPORTADOS\n",
       "\n",
       "(M) = (J + K + L)</th>\n",
       "      <th>TOTAL PASSAGEIROS TRANSPORTADOS\n",
       "\n",
       "(N) = (J + K + L + M)</th>\n",
       "      <th>mes</th>\n",
       "      <th>ano</th>\n",
       "      <th>ano-mes</th>\n",
       "    </tr>\n",
       "  </thead>\n",
       "  <tbody>\n",
       "    <tr>\n",
       "      <th>31021</th>\n",
       "      <td>AREA 1</td>\n",
       "      <td>2014-01-27</td>\n",
       "      <td>GATO PRETO</td>\n",
       "      <td>800010 - TERM LAPA/PCA RAMOS</td>\n",
       "      <td>NaN</td>\n",
       "      <td>777.0</td>\n",
       "      <td>NaN</td>\n",
       "      <td>NaN</td>\n",
       "      <td>3081.0</td>\n",
       "      <td>NaN</td>\n",
       "      <td>...</td>\n",
       "      <td>NaN</td>\n",
       "      <td>326.0</td>\n",
       "      <td>0.0</td>\n",
       "      <td>CONCESSAO</td>\n",
       "      <td>NaN</td>\n",
       "      <td>7746.0</td>\n",
       "      <td>7746.0</td>\n",
       "      <td>1.0</td>\n",
       "      <td>2014.0</td>\n",
       "      <td>2014-01</td>\n",
       "    </tr>\n",
       "    <tr>\n",
       "      <th>31022</th>\n",
       "      <td>AREA 1</td>\n",
       "      <td>2014-01-27</td>\n",
       "      <td>GATO PRETO</td>\n",
       "      <td>830010 - TERM PIRITUBA/TERM LAPA</td>\n",
       "      <td>NaN</td>\n",
       "      <td>96.0</td>\n",
       "      <td>NaN</td>\n",
       "      <td>NaN</td>\n",
       "      <td>544.0</td>\n",
       "      <td>NaN</td>\n",
       "      <td>...</td>\n",
       "      <td>NaN</td>\n",
       "      <td>60.0</td>\n",
       "      <td>0.0</td>\n",
       "      <td>CONCESSAO</td>\n",
       "      <td>NaN</td>\n",
       "      <td>1168.0</td>\n",
       "      <td>1168.0</td>\n",
       "      <td>1.0</td>\n",
       "      <td>2014.0</td>\n",
       "      <td>2014-01</td>\n",
       "    </tr>\n",
       "    <tr>\n",
       "      <th>31023</th>\n",
       "      <td>AREA 1</td>\n",
       "      <td>2014-01-27</td>\n",
       "      <td>GATO PRETO</td>\n",
       "      <td>853810 - VILA IARA/PAISSANDU</td>\n",
       "      <td>NaN</td>\n",
       "      <td>308.0</td>\n",
       "      <td>NaN</td>\n",
       "      <td>NaN</td>\n",
       "      <td>518.0</td>\n",
       "      <td>NaN</td>\n",
       "      <td>...</td>\n",
       "      <td>NaN</td>\n",
       "      <td>23.0</td>\n",
       "      <td>0.0</td>\n",
       "      <td>CONCESSAO</td>\n",
       "      <td>NaN</td>\n",
       "      <td>2095.0</td>\n",
       "      <td>2095.0</td>\n",
       "      <td>1.0</td>\n",
       "      <td>2014.0</td>\n",
       "      <td>2014-01</td>\n",
       "    </tr>\n",
       "    <tr>\n",
       "      <th>31024</th>\n",
       "      <td>AREA 1</td>\n",
       "      <td>2014-01-27</td>\n",
       "      <td>GATO PRETO</td>\n",
       "      <td>854210 - BRASILANDIA/PCA DO CORREIO</td>\n",
       "      <td>NaN</td>\n",
       "      <td>1038.0</td>\n",
       "      <td>NaN</td>\n",
       "      <td>NaN</td>\n",
       "      <td>2471.0</td>\n",
       "      <td>NaN</td>\n",
       "      <td>...</td>\n",
       "      <td>NaN</td>\n",
       "      <td>202.0</td>\n",
       "      <td>0.0</td>\n",
       "      <td>CONCESSAO</td>\n",
       "      <td>NaN</td>\n",
       "      <td>9376.0</td>\n",
       "      <td>9376.0</td>\n",
       "      <td>1.0</td>\n",
       "      <td>2014.0</td>\n",
       "      <td>2014-01</td>\n",
       "    </tr>\n",
       "    <tr>\n",
       "      <th>31025</th>\n",
       "      <td>AREA 1</td>\n",
       "      <td>2014-01-27</td>\n",
       "      <td>GATO PRETO</td>\n",
       "      <td>854510 - PENTEADO/METRO BARRA FUNDA</td>\n",
       "      <td>NaN</td>\n",
       "      <td>636.0</td>\n",
       "      <td>NaN</td>\n",
       "      <td>NaN</td>\n",
       "      <td>1576.0</td>\n",
       "      <td>NaN</td>\n",
       "      <td>...</td>\n",
       "      <td>NaN</td>\n",
       "      <td>310.0</td>\n",
       "      <td>0.0</td>\n",
       "      <td>CONCESSAO</td>\n",
       "      <td>NaN</td>\n",
       "      <td>5443.0</td>\n",
       "      <td>5443.0</td>\n",
       "      <td>1.0</td>\n",
       "      <td>2014.0</td>\n",
       "      <td>2014-01</td>\n",
       "    </tr>\n",
       "  </tbody>\n",
       "</table>\n",
       "<p>5 rows × 30 columns</p>\n",
       "</div>"
      ],
      "text/plain": [
       "         AREA       DATA     EMPRESA                                LINHA  \\\n",
       "31021  AREA 1 2014-01-27  GATO PRETO         800010 - TERM LAPA/PCA RAMOS   \n",
       "31022  AREA 1 2014-01-27  GATO PRETO     830010 - TERM PIRITUBA/TERM LAPA   \n",
       "31023  AREA 1 2014-01-27  GATO PRETO         853810 - VILA IARA/PAISSANDU   \n",
       "31024  AREA 1 2014-01-27  GATO PRETO  854210 - BRASILANDIA/PCA DO CORREIO   \n",
       "31025  AREA 1 2014-01-27  GATO PRETO  854510 - PENTEADO/METRO BARRA FUNDA   \n",
       "\n",
       "       PASSAGEIROS COM GRATUIDADE\\n\\n(H)  PASSAGEIROS COM GRATUIDADE\\n\\n(L)  \\\n",
       "31021                                NaN                              777.0   \n",
       "31022                                NaN                               96.0   \n",
       "31023                                NaN                              308.0   \n",
       "31024                                NaN                             1038.0   \n",
       "31025                                NaN                              636.0   \n",
       "\n",
       "       PASSAGEIROS COM GRATUIDADE ESTUDANTE\\n\\n(M)  \\\n",
       "31021                                          NaN   \n",
       "31022                                          NaN   \n",
       "31023                                          NaN   \n",
       "31024                                          NaN   \n",
       "31025                                          NaN   \n",
       "\n",
       "       PASSAGEIROS INTEGRAÇÕES ÔNIBUS -> ÔNIBUS\\n\\n(G)  \\\n",
       "31021                                              NaN   \n",
       "31022                                              NaN   \n",
       "31023                                              NaN   \n",
       "31024                                              NaN   \n",
       "31025                                              NaN   \n",
       "\n",
       "       PASSAGEIROS INTEGRAÇÕES ÔNIBUS -> ÔNIBUS\\n\\n(K)  \\\n",
       "31021                                           3081.0   \n",
       "31022                                            544.0   \n",
       "31023                                            518.0   \n",
       "31024                                           2471.0   \n",
       "31025                                           1576.0   \n",
       "\n",
       "       PASSAGEIROS PAGANTES\\n\\n(F) = (A + B + C + D + E)  ...  \\\n",
       "31021                                                NaN  ...   \n",
       "31022                                                NaN  ...   \n",
       "31023                                                NaN  ...   \n",
       "31024                                                NaN  ...   \n",
       "31025                                                NaN  ...   \n",
       "\n",
       "       PASSAGEIROS PAGANTES INTEGRAÇÕES METRÔ E CPTM\\n\\n(E)  \\\n",
       "31021                                                NaN      \n",
       "31022                                                NaN      \n",
       "31023                                                NaN      \n",
       "31024                                                NaN      \n",
       "31025                                                NaN      \n",
       "\n",
       "       PASSAGEIROS PAGANTES INTEGRAÇÕES METRÔ E CPTM\\n\\n(H)  \\\n",
       "31021                                              326.0      \n",
       "31022                                               60.0      \n",
       "31023                                               23.0      \n",
       "31024                                              202.0      \n",
       "31025                                              310.0      \n",
       "\n",
       "       PASSAGEIROS PAGANTES INTEGRAÇÕES METRÔ E CPTM MENSAL\\n\\n(I)       TIPO  \\\n",
       "31021                                                0.0            CONCESSAO   \n",
       "31022                                                0.0            CONCESSAO   \n",
       "31023                                                0.0            CONCESSAO   \n",
       "31024                                                0.0            CONCESSAO   \n",
       "31025                                                0.0            CONCESSAO   \n",
       "\n",
       "       TOTAL PASSAGEIROS TRANSPORTADOS\\n\\n(I) = (F + G + H)  \\\n",
       "31021                                                NaN      \n",
       "31022                                                NaN      \n",
       "31023                                                NaN      \n",
       "31024                                                NaN      \n",
       "31025                                                NaN      \n",
       "\n",
       "       TOTAL PASSAGEIROS TRANSPORTADOS\\n\\n(M) = (J + K + L)  \\\n",
       "31021                                             7746.0      \n",
       "31022                                             1168.0      \n",
       "31023                                             2095.0      \n",
       "31024                                             9376.0      \n",
       "31025                                             5443.0      \n",
       "\n",
       "       TOTAL PASSAGEIROS TRANSPORTADOS\\n\\n(N) = (J + K + L + M)  mes     ano  \\\n",
       "31021                                             7746.0         1.0  2014.0   \n",
       "31022                                             1168.0         1.0  2014.0   \n",
       "31023                                             2095.0         1.0  2014.0   \n",
       "31024                                             9376.0         1.0  2014.0   \n",
       "31025                                             5443.0         1.0  2014.0   \n",
       "\n",
       "       ano-mes  \n",
       "31021  2014-01  \n",
       "31022  2014-01  \n",
       "31023  2014-01  \n",
       "31024  2014-01  \n",
       "31025  2014-01  \n",
       "\n",
       "[5 rows x 30 columns]"
      ]
     },
     "execution_count": 24,
     "metadata": {},
     "output_type": "execute_result"
    }
   ],
   "source": [
    "df.head()"
   ]
  },
  {
   "cell_type": "code",
   "execution_count": 129,
   "metadata": {},
   "outputs": [],
   "source": [
    "df5 = pd.pivot_table(data=df, values ='TOTAL PASSAGEIROS TRANSPORTADOS\\n\\n(N) = (J + K + L + M)' , index = 'AREA', columns= 'EMPRESA', aggfunc ='sum')"
   ]
  },
  {
   "cell_type": "code",
   "execution_count": 137,
   "metadata": {},
   "outputs": [],
   "source": [
    "df5 = df5.replace(np.NaN,0)\n",
    "mean_empresa = {}\n",
    "for column in df5.columns:\n",
    "    media = df5[column].mean()\n",
    "    mean_empresa.update({column : media})\n",
    "df_empresa = pd.DataFrame.from_dict(mean_empresa, orient = 'index')"
   ]
  },
  {
   "cell_type": "code",
   "execution_count": 140,
   "metadata": {},
   "outputs": [
    {
     "data": {
      "text/plain": [
       "RangeIndex(start=0, stop=1, step=1)"
      ]
     },
     "execution_count": 140,
     "metadata": {},
     "output_type": "execute_result"
    }
   ],
   "source": [
    "df_empresa.columns"
   ]
  },
  {
   "cell_type": "code",
   "execution_count": null,
   "metadata": {},
   "outputs": [],
   "source": []
  },
  {
   "cell_type": "code",
   "execution_count": 145,
   "metadata": {},
   "outputs": [],
   "source": [
    "lista_empresas = list(df_empresa.sort_values(ascending = False, by = 0).index)"
   ]
  },
  {
   "cell_type": "code",
   "execution_count": 151,
   "metadata": {},
   "outputs": [],
   "source": [
    "#df_empresa.sort_values(ascending = False, by = 0)"
   ]
  },
  {
   "cell_type": "code",
   "execution_count": 149,
   "metadata": {},
   "outputs": [],
   "source": [
    "for empresa in lista_empresas:\n",
    "    "
   ]
  },
  {
   "cell_type": "code",
   "execution_count": 113,
   "metadata": {},
   "outputs": [
    {
     "name": "stdout",
     "output_type": "stream",
     "text": [
      "Área 1 - 540.5689288028198\n",
      "Área 2 - 519.8458310606436\n",
      "Área 3 - 588.8428238389205\n",
      "Área 4 - 509.22324269352134\n",
      "Área 5 - 592.9078852289027\n",
      "Área 6 - 554.3927764804097\n",
      "Área 7 - 603.450181367799\n",
      "Área 8 - 492.467032641856\n"
     ]
    },
    {
     "data": {
      "text/plain": [
       "<BarContainer object of 8 artists>"
      ]
     },
     "execution_count": 113,
     "metadata": {},
     "output_type": "execute_result"
    },
    {
     "data": {
      "image/png": "[encoded data removed]",
      "text/plain": [
       "<Figure size 432x288 with 1 Axes>"
      ]
     },
     "metadata": {
      "needs_background": "light"
     },
     "output_type": "display_data"
    }
   ],
   "source": [
    "list1 = []\n",
    "for i in range(len(list_area_linha)):\n",
    "    media = mean_area[i]\n",
    "    area  = list_area_linha[i]\n",
    "    frota = frotas_cadastradas[i]\n",
    "    print('Área '+str(i+1)+' - '+ str(media/frota))\n",
    "    list1.append(media/frota)\n",
    "#area 3 nordeste - menor\n",
    "#area 5 sudeste  - maior\n",
    "plt.bar(x = df2.columns , height = list1)"
   ]
  },
  {
   "cell_type": "code",
   "execution_count": 121,
   "metadata": {},
   "outputs": [
    {
     "name": "stdout",
     "output_type": "stream",
     "text": [
      "Área 1 - 4004.0371098049573\n",
      "Área 2 - 3740.4046649223997\n",
      "Área 3 - 3604.774979270315\n",
      "Área 4 - 4004.3464084536\n",
      "Área 5 - 4021.843142661079\n",
      "Área 6 - 4244.569694928137\n",
      "Área 7 - 4321.026215078454\n",
      "Área 8 - 3468.565100174802\n"
     ]
    },
    {
     "data": {
      "text/plain": [
       "<BarContainer object of 8 artists>"
      ]
     },
     "execution_count": 121,
     "metadata": {},
     "output_type": "execute_result"
    },
    {
     "data": {
      "image/png": "[encoded data removed]",
      "text/plain": [
       "<Figure size 432x288 with 1 Axes>"
      ]
     },
     "metadata": {
      "needs_background": "light"
     },
     "output_type": "display_data"
    }
   ],
   "source": [
    "list2 = []\n",
    "for i in range(len(list_area_linha)):\n",
    "    media = mean_area[i]\n",
    "    area  = list_area_linha[i]\n",
    "    frota = frotas_cadastradas[i]\n",
    "    print('Área '+str(i+1)+' - '+ str(media/area))\n",
    "    list2.append(media/area)\n",
    "#area 3 nordeste - menor\n",
    "#area 5 sudeste  - maior\n",
    "plt.bar(x = df2.columns, height = list2)"
   ]
  },
  {
   "cell_type": "code",
   "execution_count": 29,
   "metadata": {},
   "outputs": [],
   "source": [
    "ano_mes = df.groupby('ano-mes')"
   ]
  },
  {
   "cell_type": "code",
   "execution_count": 50,
   "metadata": {},
   "outputs": [
    {
     "data": {
      "text/plain": [
       "AREA    LINHA                                  \n",
       "AREA 7  675K10 - TERM JD ANGELA-METRO STA CRUZ     31433.337796\n",
       "AREA 3  431010 - E.T.ITAQUERA/TERM PQ D PEDRO      30745.313906\n",
       "AREA 6  691310 - TERM BANDEIRA/TERM VARGINHA       30033.752832\n",
       "AREA 3  220210 - HOSP ITAIM/GUAIAZAZES             27947.466529\n",
       "AREA 1  978T10 - JD GUARANI/METRO BARRA FUNDA      24878.767250\n",
       "AREA 4  306410 - CIDADE TIRADENTES/EST GUAIANAZ    24840.122363\n",
       "AREA 7  695T10 - TERM.CAPELINHA/METRO V.MARIANA    24281.753382\n",
       "AREA 3  306410 - CIDADE TIRADENTES/EST GUAIANAZ    24071.912162\n",
       "AREA 4  376310 - TERM VL CARRAO/METRO TATUAPE      23533.913491\n",
       "AREA 7  620010 - TERM STO AMARO/TERM BANDEIRA      22473.076609\n",
       "        645010 - TERM.CAPELINHA-TERM.BANDEIRA      22452.505664\n",
       "AREA 6  563010 - Jd Eliana - Brás                  21940.711637\n",
       "AREA 7  637A10 - TERM JD ANGELA/PINHEIROS          21825.675565\n",
       "AREA 2  971R10 - ESTACAO JARAGUA/METRO SANTANA     21549.140206\n",
       "        209P10 - CACHOEIRINHA/TERM PINHEIROS       21419.302781\n",
       "AREA 3  431310 - T CID TIRADENTES/T PQ D PEDRO     21331.019467\n",
       "        345910 - ITAIM PAULISTA/TERM P D PEDRO     21231.497425\n",
       "AREA 4  407N10 - T CID TIRADENTES/METRO PENHA      20781.571576\n",
       "AREA 1  917H10 - MERCADO PIRITUBA/VLA MARIANA      20254.751546\n",
       "AREA 4  229010 - TERM S MATEUS/TERM.PD PEDRO II    19829.245108\n",
       "AREA 1  919110 - JD ELIS MARIA/BOM RETIRO          19641.617920\n",
       "AREA 2  172R10 - JD BRASIL/METRO BELEM             19583.881565\n",
       "AREA 6  600010 - TERM PARELHEIROS/TERM SANTO AM    19452.237899\n",
       "AREA 4  407G10 - JD NOVA VITORIA/METRO CARRAO      19249.907312\n",
       "AREA 1  819A10 - VILA AURORA/JD PRIMAVERA          19098.001027\n",
       "AREA 6  501310 - JD LUSO/SANTO AMARO               18620.721193\n",
       "AREA 8  856R10 - LAPA/SOCORRO                      18536.811535\n",
       "AREA 2  175T10 - METRO SANTANA/METRO JABAQUARA     18446.441813\n",
       "AREA 5  574J10 - METRO CONCEICAO/T VILA CARRAO     18288.411340\n",
       "        511010 - TERM SAO MATEUS/TERM MERCADO      18257.368692\n",
       "                                                       ...     \n",
       "AREA 6  602510 - JD GUARUJA/SANTO AMARO                2.000000\n",
       "AREA 2  971V51 - JD VISTA ALEGRE/SHOP CENTER NO        2.000000\n",
       "AREA 5  342P10 - VILA INDUSTRIAL/PENHA                 2.000000\n",
       "AREA 2  171410 - JD TREMEMBE/METRO TUCURUVI            2.000000\n",
       "AREA 4  300610 - JD FANGANIELO/ES CPTM GUAIANAZ        2.000000\n",
       "AREA 1  870023 - PÇA RAMOS DE AZEVEDO/BUTANTA          2.000000\n",
       "AREA 3  702U10 - BUTANTA USP/PARQUE D. PEDRO II        2.000000\n",
       "AREA 5  575C21 - VILA DIVA/METRO VILA PRUDENTE         1.500000\n",
       "AREA 4  309810 - JD SAO FRANCISCO/SHOP ARICANDU        1.000000\n",
       "AREA 1  PAESE6 - PAESE AREA 6                          1.000000\n",
       "AREA 6  605910 - JD UNIVERSAL/SANTO AMARO              1.000000\n",
       "        601510 - VILA CALU/SANTO AMARO                 1.000000\n",
       "AREA 4  309910 - NOVE DE JULHO/JD DA CONQUISTA         1.000000\n",
       "AREA 7  600910 - JD SAO LOURENCO/SANTO AMARO           1.000000\n",
       "AREA 1  201410 - JD PERI ALTO/METRO BARRA FUNDA        1.000000\n",
       "AREA 2  130110 - TERM CASA VERDE/PÇ DO CORREIO         1.000000\n",
       "AREA 4  341451 - CID LIDER/LGO DA CONCORDIA            1.000000\n",
       "AREA 3  531710 - CENTRO SESC-LGO.SAO FRANCISCO         1.000000\n",
       "AREA 4  364A21 - COHAB TEO VILELA/MET VILA PRUD        1.000000\n",
       "        370210 - EST JOSE BONIFACIO/METRO PENHA        1.000000\n",
       "AREA 8  735710 - INOCOOP CAMPO LIMPO/PINHEIROS         1.000000\n",
       "AREA 4  370310 - JD NOVA VITORIA/METRO CARRAO          1.000000\n",
       "        502010 - HOSP HELIOP/TERM SACOMA               1.000000\n",
       "AREA 7  PAESE3 - PAESE AREA 3                          1.000000\n",
       "        857R41 - E HEBRAICA REBOUÇAS/M PARAISO         1.000000\n",
       "AREA 2  848L10 - RECANTO DOS HUMILDES/TERM PRIN        1.000000\n",
       "AREA 6  901410 - MORRO GRANDE/TERMINAL LAPA            1.000000\n",
       "AREA 1  880910 - PERUS/CCPD RAUL TABAJARA              1.000000\n",
       "AREA 7  602310 - JD HORIZONTE AZUL/SANTO AMARO         1.000000\n",
       "AREA 1  817C10 - LAPA/H.CLINICAS CIRCULAR              1.000000\n",
       "Name: TOTAL PASSAGEIROS TRANSPORTADOS\\n\\n(N) = (J + K + L + M), Length: 2014, dtype: float64"
      ]
     },
     "execution_count": 50,
     "metadata": {},
     "output_type": "execute_result"
    }
   ],
   "source": [
    "df.groupby(['AREA','LINHA'])['TOTAL PASSAGEIROS TRANSPORTADOS\\n\\n(N) = (J + K + L + M)'].mean().sort_values(ascending= False)"
   ]
  },
  {
   "cell_type": "code",
   "execution_count": 115,
   "metadata": {},
   "outputs": [],
   "source": [
    "df3 = pd.pivot_table(data=df, values ='TOTAL PASSAGEIROS TRANSPORTADOS\\n\\n(N) = (J + K + L + M)' , index = 'ano-mes', columns= 'AREA', aggfunc ='sum')"
   ]
  },
  {
   "cell_type": "code",
   "execution_count": 116,
   "metadata": {},
   "outputs": [
    {
     "data": {
      "text/html": [
       "<div>\n",
       "<style scoped>\n",
       "    .dataframe tbody tr th:only-of-type {\n",
       "        vertical-align: middle;\n",
       "    }\n",
       "\n",
       "    .dataframe tbody tr th {\n",
       "        vertical-align: top;\n",
       "    }\n",
       "\n",
       "    .dataframe thead th {\n",
       "        text-align: right;\n",
       "    }\n",
       "</style>\n",
       "<table border=\"1\" class=\"dataframe\">\n",
       "  <thead>\n",
       "    <tr style=\"text-align: right;\">\n",
       "      <th>AREA</th>\n",
       "      <th>AREA 1</th>\n",
       "      <th>AREA 2</th>\n",
       "      <th>AREA 3</th>\n",
       "      <th>AREA 4</th>\n",
       "      <th>AREA 5</th>\n",
       "      <th>AREA 6</th>\n",
       "      <th>AREA 7</th>\n",
       "      <th>AREA 8</th>\n",
       "    </tr>\n",
       "    <tr>\n",
       "      <th>ano-mes</th>\n",
       "      <th></th>\n",
       "      <th></th>\n",
       "      <th></th>\n",
       "      <th></th>\n",
       "      <th></th>\n",
       "      <th></th>\n",
       "      <th></th>\n",
       "      <th></th>\n",
       "    </tr>\n",
       "  </thead>\n",
       "  <tbody>\n",
       "    <tr>\n",
       "      <th>2014-01</th>\n",
       "      <td>5270938.0</td>\n",
       "      <td>5533000.0</td>\n",
       "      <td>6482896.0</td>\n",
       "      <td>5468386.0</td>\n",
       "      <td>4785172.0</td>\n",
       "      <td>7240136.0</td>\n",
       "      <td>7546887.0</td>\n",
       "      <td>3889079.0</td>\n",
       "    </tr>\n",
       "    <tr>\n",
       "      <th>2014-02</th>\n",
       "      <td>26668482.0</td>\n",
       "      <td>27907266.0</td>\n",
       "      <td>33397601.0</td>\n",
       "      <td>28226481.0</td>\n",
       "      <td>23929817.0</td>\n",
       "      <td>36964181.0</td>\n",
       "      <td>37885664.0</td>\n",
       "      <td>19386339.0</td>\n",
       "    </tr>\n",
       "    <tr>\n",
       "      <th>2014-03</th>\n",
       "      <td>27119682.0</td>\n",
       "      <td>28774830.0</td>\n",
       "      <td>34599711.0</td>\n",
       "      <td>29201858.0</td>\n",
       "      <td>24446857.0</td>\n",
       "      <td>38201374.0</td>\n",
       "      <td>39241687.0</td>\n",
       "      <td>19534084.0</td>\n",
       "    </tr>\n",
       "    <tr>\n",
       "      <th>2014-04</th>\n",
       "      <td>27161071.0</td>\n",
       "      <td>29391304.0</td>\n",
       "      <td>34956641.0</td>\n",
       "      <td>29373746.0</td>\n",
       "      <td>24648867.0</td>\n",
       "      <td>38391163.0</td>\n",
       "      <td>39623124.0</td>\n",
       "      <td>20082147.0</td>\n",
       "    </tr>\n",
       "    <tr>\n",
       "      <th>2014-05</th>\n",
       "      <td>27358060.0</td>\n",
       "      <td>29342705.0</td>\n",
       "      <td>36132285.0</td>\n",
       "      <td>30255966.0</td>\n",
       "      <td>24844778.0</td>\n",
       "      <td>38457147.0</td>\n",
       "      <td>39739319.0</td>\n",
       "      <td>19882844.0</td>\n",
       "    </tr>\n",
       "    <tr>\n",
       "      <th>2014-06</th>\n",
       "      <td>24911719.0</td>\n",
       "      <td>26326271.0</td>\n",
       "      <td>31661251.0</td>\n",
       "      <td>26201949.0</td>\n",
       "      <td>22180584.0</td>\n",
       "      <td>34506429.0</td>\n",
       "      <td>35681183.0</td>\n",
       "      <td>17960177.0</td>\n",
       "    </tr>\n",
       "    <tr>\n",
       "      <th>2014-07</th>\n",
       "      <td>26162958.0</td>\n",
       "      <td>27158064.0</td>\n",
       "      <td>33510727.0</td>\n",
       "      <td>27870837.0</td>\n",
       "      <td>23568218.0</td>\n",
       "      <td>36150045.0</td>\n",
       "      <td>37758173.0</td>\n",
       "      <td>18756604.0</td>\n",
       "    </tr>\n",
       "    <tr>\n",
       "      <th>2014-08</th>\n",
       "      <td>28631961.0</td>\n",
       "      <td>30550264.0</td>\n",
       "      <td>36948987.0</td>\n",
       "      <td>30823733.0</td>\n",
       "      <td>25712067.0</td>\n",
       "      <td>39412462.0</td>\n",
       "      <td>41048587.0</td>\n",
       "      <td>20876890.0</td>\n",
       "    </tr>\n",
       "    <tr>\n",
       "      <th>2014-09</th>\n",
       "      <td>29038600.0</td>\n",
       "      <td>31351308.0</td>\n",
       "      <td>38777040.0</td>\n",
       "      <td>29113787.0</td>\n",
       "      <td>26101379.0</td>\n",
       "      <td>39600935.0</td>\n",
       "      <td>41463519.0</td>\n",
       "      <td>21282234.0</td>\n",
       "    </tr>\n",
       "    <tr>\n",
       "      <th>2014-10</th>\n",
       "      <td>30086836.0</td>\n",
       "      <td>32309883.0</td>\n",
       "      <td>42420133.0</td>\n",
       "      <td>27675640.0</td>\n",
       "      <td>28185084.0</td>\n",
       "      <td>41313038.0</td>\n",
       "      <td>43314674.0</td>\n",
       "      <td>22221007.0</td>\n",
       "    </tr>\n",
       "    <tr>\n",
       "      <th>2014-11</th>\n",
       "      <td>26736645.0</td>\n",
       "      <td>28564420.0</td>\n",
       "      <td>38269701.0</td>\n",
       "      <td>24761355.0</td>\n",
       "      <td>25185723.0</td>\n",
       "      <td>36978412.0</td>\n",
       "      <td>38713231.0</td>\n",
       "      <td>19554083.0</td>\n",
       "    </tr>\n",
       "    <tr>\n",
       "      <th>2014-12</th>\n",
       "      <td>26019663.0</td>\n",
       "      <td>27430102.0</td>\n",
       "      <td>37640566.0</td>\n",
       "      <td>23768653.0</td>\n",
       "      <td>24043381.0</td>\n",
       "      <td>36184223.0</td>\n",
       "      <td>37090237.0</td>\n",
       "      <td>18558765.0</td>\n",
       "    </tr>\n",
       "    <tr>\n",
       "      <th>2015-01</th>\n",
       "      <td>24310864.0</td>\n",
       "      <td>25054595.0</td>\n",
       "      <td>34324860.0</td>\n",
       "      <td>21951446.0</td>\n",
       "      <td>22554287.0</td>\n",
       "      <td>33809756.0</td>\n",
       "      <td>35643459.0</td>\n",
       "      <td>17236467.0</td>\n",
       "    </tr>\n",
       "    <tr>\n",
       "      <th>2015-02</th>\n",
       "      <td>23742582.0</td>\n",
       "      <td>24540232.0</td>\n",
       "      <td>33071930.0</td>\n",
       "      <td>20895652.0</td>\n",
       "      <td>21461964.0</td>\n",
       "      <td>31673329.0</td>\n",
       "      <td>34630829.0</td>\n",
       "      <td>17161749.0</td>\n",
       "    </tr>\n",
       "    <tr>\n",
       "      <th>2015-03</th>\n",
       "      <td>28991032.0</td>\n",
       "      <td>30703442.0</td>\n",
       "      <td>40359728.0</td>\n",
       "      <td>26103977.0</td>\n",
       "      <td>26290160.0</td>\n",
       "      <td>38772401.0</td>\n",
       "      <td>41516318.0</td>\n",
       "      <td>20795253.0</td>\n",
       "    </tr>\n",
       "    <tr>\n",
       "      <th>2015-04</th>\n",
       "      <td>8073341.0</td>\n",
       "      <td>8474340.0</td>\n",
       "      <td>11268952.0</td>\n",
       "      <td>7279384.0</td>\n",
       "      <td>7374883.0</td>\n",
       "      <td>10945304.0</td>\n",
       "      <td>11731458.0</td>\n",
       "      <td>5776431.0</td>\n",
       "    </tr>\n",
       "    <tr>\n",
       "      <th>2016-01</th>\n",
       "      <td>23945519.0</td>\n",
       "      <td>24060210.0</td>\n",
       "      <td>26934895.0</td>\n",
       "      <td>26998843.0</td>\n",
       "      <td>21599925.0</td>\n",
       "      <td>32212075.0</td>\n",
       "      <td>34739836.0</td>\n",
       "      <td>16142149.0</td>\n",
       "    </tr>\n",
       "    <tr>\n",
       "      <th>2016-02</th>\n",
       "      <td>25933196.0</td>\n",
       "      <td>26236324.0</td>\n",
       "      <td>29232033.0</td>\n",
       "      <td>29370119.0</td>\n",
       "      <td>23303836.0</td>\n",
       "      <td>34274386.0</td>\n",
       "      <td>36928058.0</td>\n",
       "      <td>17910604.0</td>\n",
       "    </tr>\n",
       "    <tr>\n",
       "      <th>2016-03</th>\n",
       "      <td>29937839.0</td>\n",
       "      <td>30598357.0</td>\n",
       "      <td>33709301.0</td>\n",
       "      <td>34234221.0</td>\n",
       "      <td>26850016.0</td>\n",
       "      <td>39475500.0</td>\n",
       "      <td>42253981.0</td>\n",
       "      <td>20876903.0</td>\n",
       "    </tr>\n",
       "    <tr>\n",
       "      <th>2016-04</th>\n",
       "      <td>28496970.0</td>\n",
       "      <td>28900081.0</td>\n",
       "      <td>32042045.0</td>\n",
       "      <td>32691955.0</td>\n",
       "      <td>25427552.0</td>\n",
       "      <td>37463596.0</td>\n",
       "      <td>39995355.0</td>\n",
       "      <td>19695506.0</td>\n",
       "    </tr>\n",
       "    <tr>\n",
       "      <th>2016-05</th>\n",
       "      <td>28762796.0</td>\n",
       "      <td>29129713.0</td>\n",
       "      <td>32350700.0</td>\n",
       "      <td>32902198.0</td>\n",
       "      <td>25538731.0</td>\n",
       "      <td>37690308.0</td>\n",
       "      <td>40280949.0</td>\n",
       "      <td>19948890.0</td>\n",
       "    </tr>\n",
       "    <tr>\n",
       "      <th>2016-06</th>\n",
       "      <td>28893185.0</td>\n",
       "      <td>29380768.0</td>\n",
       "      <td>32766165.0</td>\n",
       "      <td>33104472.0</td>\n",
       "      <td>25835957.0</td>\n",
       "      <td>37666396.0</td>\n",
       "      <td>40427010.0</td>\n",
       "      <td>20073023.0</td>\n",
       "    </tr>\n",
       "    <tr>\n",
       "      <th>2016-07</th>\n",
       "      <td>26803138.0</td>\n",
       "      <td>26965934.0</td>\n",
       "      <td>30482782.0</td>\n",
       "      <td>30872181.0</td>\n",
       "      <td>23736857.0</td>\n",
       "      <td>35511339.0</td>\n",
       "      <td>37936346.0</td>\n",
       "      <td>18256869.0</td>\n",
       "    </tr>\n",
       "    <tr>\n",
       "      <th>2016-08</th>\n",
       "      <td>30389269.0</td>\n",
       "      <td>30913853.0</td>\n",
       "      <td>34305541.0</td>\n",
       "      <td>35271997.0</td>\n",
       "      <td>26999021.0</td>\n",
       "      <td>39585344.0</td>\n",
       "      <td>42636522.0</td>\n",
       "      <td>21285195.0</td>\n",
       "    </tr>\n",
       "    <tr>\n",
       "      <th>2016-09</th>\n",
       "      <td>29082662.0</td>\n",
       "      <td>29580963.0</td>\n",
       "      <td>32751753.0</td>\n",
       "      <td>34111385.0</td>\n",
       "      <td>25909693.0</td>\n",
       "      <td>37978591.0</td>\n",
       "      <td>40750900.0</td>\n",
       "      <td>20283210.0</td>\n",
       "    </tr>\n",
       "    <tr>\n",
       "      <th>2016-10</th>\n",
       "      <td>29076854.0</td>\n",
       "      <td>29428533.0</td>\n",
       "      <td>32597268.0</td>\n",
       "      <td>34417114.0</td>\n",
       "      <td>26031016.0</td>\n",
       "      <td>38383702.0</td>\n",
       "      <td>40952415.0</td>\n",
       "      <td>20125090.0</td>\n",
       "    </tr>\n",
       "    <tr>\n",
       "      <th>2016-11</th>\n",
       "      <td>28464100.0</td>\n",
       "      <td>28770379.0</td>\n",
       "      <td>32079836.0</td>\n",
       "      <td>33598900.0</td>\n",
       "      <td>25441067.0</td>\n",
       "      <td>37356660.0</td>\n",
       "      <td>40099488.0</td>\n",
       "      <td>19722638.0</td>\n",
       "    </tr>\n",
       "    <tr>\n",
       "      <th>2016-12</th>\n",
       "      <td>27479597.0</td>\n",
       "      <td>27451482.0</td>\n",
       "      <td>31175266.0</td>\n",
       "      <td>32571437.0</td>\n",
       "      <td>24426171.0</td>\n",
       "      <td>36640370.0</td>\n",
       "      <td>39128209.0</td>\n",
       "      <td>18640143.0</td>\n",
       "    </tr>\n",
       "  </tbody>\n",
       "</table>\n",
       "</div>"
      ],
      "text/plain": [
       "AREA         AREA 1      AREA 2      AREA 3      AREA 4      AREA 5  \\\n",
       "ano-mes                                                               \n",
       "2014-01   5270938.0   5533000.0   6482896.0   5468386.0   4785172.0   \n",
       "2014-02  26668482.0  27907266.0  33397601.0  28226481.0  23929817.0   \n",
       "2014-03  27119682.0  28774830.0  34599711.0  29201858.0  24446857.0   \n",
       "2014-04  27161071.0  29391304.0  34956641.0  29373746.0  24648867.0   \n",
       "2014-05  27358060.0  29342705.0  36132285.0  30255966.0  24844778.0   \n",
       "2014-06  24911719.0  26326271.0  31661251.0  26201949.0  22180584.0   \n",
       "2014-07  26162958.0  27158064.0  33510727.0  27870837.0  23568218.0   \n",
       "2014-08  28631961.0  30550264.0  36948987.0  30823733.0  25712067.0   \n",
       "2014-09  29038600.0  31351308.0  38777040.0  29113787.0  26101379.0   \n",
       "2014-10  30086836.0  32309883.0  42420133.0  27675640.0  28185084.0   \n",
       "2014-11  26736645.0  28564420.0  38269701.0  24761355.0  25185723.0   \n",
       "2014-12  26019663.0  27430102.0  37640566.0  23768653.0  24043381.0   \n",
       "2015-01  24310864.0  25054595.0  34324860.0  21951446.0  22554287.0   \n",
       "2015-02  23742582.0  24540232.0  33071930.0  20895652.0  21461964.0   \n",
       "2015-03  28991032.0  30703442.0  40359728.0  26103977.0  26290160.0   \n",
       "2015-04   8073341.0   8474340.0  11268952.0   7279384.0   7374883.0   \n",
       "2016-01  23945519.0  24060210.0  26934895.0  26998843.0  21599925.0   \n",
       "2016-02  25933196.0  26236324.0  29232033.0  29370119.0  23303836.0   \n",
       "2016-03  29937839.0  30598357.0  33709301.0  34234221.0  26850016.0   \n",
       "2016-04  28496970.0  28900081.0  32042045.0  32691955.0  25427552.0   \n",
       "2016-05  28762796.0  29129713.0  32350700.0  32902198.0  25538731.0   \n",
       "2016-06  28893185.0  29380768.0  32766165.0  33104472.0  25835957.0   \n",
       "2016-07  26803138.0  26965934.0  30482782.0  30872181.0  23736857.0   \n",
       "2016-08  30389269.0  30913853.0  34305541.0  35271997.0  26999021.0   \n",
       "2016-09  29082662.0  29580963.0  32751753.0  34111385.0  25909693.0   \n",
       "2016-10  29076854.0  29428533.0  32597268.0  34417114.0  26031016.0   \n",
       "2016-11  28464100.0  28770379.0  32079836.0  33598900.0  25441067.0   \n",
       "2016-12  27479597.0  27451482.0  31175266.0  32571437.0  24426171.0   \n",
       "\n",
       "AREA         AREA 6      AREA 7      AREA 8  \n",
       "ano-mes                                      \n",
       "2014-01   7240136.0   7546887.0   3889079.0  \n",
       "2014-02  36964181.0  37885664.0  19386339.0  \n",
       "2014-03  38201374.0  39241687.0  19534084.0  \n",
       "2014-04  38391163.0  39623124.0  20082147.0  \n",
       "2014-05  38457147.0  39739319.0  19882844.0  \n",
       "2014-06  34506429.0  35681183.0  17960177.0  \n",
       "2014-07  36150045.0  37758173.0  18756604.0  \n",
       "2014-08  39412462.0  41048587.0  20876890.0  \n",
       "2014-09  39600935.0  41463519.0  21282234.0  \n",
       "2014-10  41313038.0  43314674.0  22221007.0  \n",
       "2014-11  36978412.0  38713231.0  19554083.0  \n",
       "2014-12  36184223.0  37090237.0  18558765.0  \n",
       "2015-01  33809756.0  35643459.0  17236467.0  \n",
       "2015-02  31673329.0  34630829.0  17161749.0  \n",
       "2015-03  38772401.0  41516318.0  20795253.0  \n",
       "2015-04  10945304.0  11731458.0   5776431.0  \n",
       "2016-01  32212075.0  34739836.0  16142149.0  \n",
       "2016-02  34274386.0  36928058.0  17910604.0  \n",
       "2016-03  39475500.0  42253981.0  20876903.0  \n",
       "2016-04  37463596.0  39995355.0  19695506.0  \n",
       "2016-05  37690308.0  40280949.0  19948890.0  \n",
       "2016-06  37666396.0  40427010.0  20073023.0  \n",
       "2016-07  35511339.0  37936346.0  18256869.0  \n",
       "2016-08  39585344.0  42636522.0  21285195.0  \n",
       "2016-09  37978591.0  40750900.0  20283210.0  \n",
       "2016-10  38383702.0  40952415.0  20125090.0  \n",
       "2016-11  37356660.0  40099488.0  19722638.0  \n",
       "2016-12  36640370.0  39128209.0  18640143.0  "
      ]
     },
     "execution_count": 116,
     "metadata": {},
     "output_type": "execute_result"
    }
   ],
   "source": [
    "df3"
   ]
  },
  {
   "cell_type": "code",
   "execution_count": 117,
   "metadata": {},
   "outputs": [],
   "source": [
    "df4 = df3 = pd.pivot_table(data=df, values ='TOTAL PASSAGEIROS TRANSPORTADOS\\n\\n(N) = (J + K + L + M)' , index = 'ano', columns= 'AREA', aggfunc ='sum')"
   ]
  },
  {
   "cell_type": "code",
   "execution_count": null,
   "metadata": {},
   "outputs": [],
   "source": []
  }
 ],
 "metadata": {
  "kernelspec": {
   "display_name": "Python 3",
   "language": "python",
   "name": "python3"
  },
  "language_info": {
   "codemirror_mode": {
    "name": "ipython",
    "version": 3
   },
   "file_extension": ".py",
   "mimetype": "text/x-python",
   "name": "python",
   "nbconvert_exporter": "python",
   "pygments_lexer": "ipython3",
   "version": "3.7.3"
  }
 },
 "nbformat": 4,
 "nbformat_minor": 2
}
